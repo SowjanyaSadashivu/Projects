{
  "nbformat": 4,
  "nbformat_minor": 0,
  "metadata": {
    "colab": {
      "name": "overfitting_underfitting.ipynb",
      "provenance": [],
      "collapsed_sections": [],
      "authorship_tag": "ABX9TyNE0xs5rsuNpbqu+Vxgu4Rp",
      "include_colab_link": true
    },
    "kernelspec": {
      "name": "python3",
      "display_name": "Python 3"
    },
    "language_info": {
      "name": "python"
    }
  },
  "cells": [
    {
      "cell_type": "markdown",
      "metadata": {
        "id": "view-in-github",
        "colab_type": "text"
      },
      "source": [
        "<a href=\"https://colab.research.google.com/github/SowjanyaSadashivu/Projects/blob/main/overfitting_underfitting.ipynb\" target=\"_parent\"><img src=\"https://colab.research.google.com/assets/colab-badge.svg\" alt=\"Open In Colab\"/></a>"
      ]
    },
    {
      "cell_type": "code",
      "metadata": {
        "id": "xaj5Aqo3Mk9t"
      },
      "source": [
        "import math\n",
        "import random\n",
        "import operator\n",
        "import numpy as np\n",
        "import pandas as pd\n",
        "import matplotlib.pyplot as plt\n",
        "from sklearn.pipeline import Pipeline\n",
        "from sklearn.linear_model import LinearRegression\n",
        "from sklearn.preprocessing import PolynomialFeatures\n",
        "from sklearn.metrics import mean_squared_error, r2_score"
      ],
      "execution_count": null,
      "outputs": []
    },
    {
      "cell_type": "code",
      "metadata": {
        "id": "ZjUYSOhsUmnv",
        "colab": {
          "base_uri": "https://localhost:8080/"
        },
        "outputId": "b9e06027-6bce-4cf2-80ef-c3cc51dfa5a0"
      },
      "source": [
        "np.random.seed(0)\n",
        "x = np.random.uniform(0, 1, 20)\n",
        "print(x)"
      ],
      "execution_count": null,
      "outputs": [
        {
          "output_type": "stream",
          "text": [
            "[0.5488135  0.71518937 0.60276338 0.54488318 0.4236548  0.64589411\n",
            " 0.43758721 0.891773   0.96366276 0.38344152 0.79172504 0.52889492\n",
            " 0.56804456 0.92559664 0.07103606 0.0871293  0.0202184  0.83261985\n",
            " 0.77815675 0.87001215]\n"
          ],
          "name": "stdout"
        }
      ]
    },
    {
      "cell_type": "code",
      "metadata": {
        "colab": {
          "base_uri": "https://localhost:8080/"
        },
        "id": "13EMy6175pYu",
        "outputId": "88b23de0-66b0-4d38-b61b-5c82d2e1e9ac"
      },
      "source": [
        "np.random.seed(0)\n",
        "N = np.random.normal(0,1,20)\n",
        "print(N)"
      ],
      "execution_count": null,
      "outputs": [
        {
          "output_type": "stream",
          "text": [
            "[ 1.76405235  0.40015721  0.97873798  2.2408932   1.86755799 -0.97727788\n",
            "  0.95008842 -0.15135721 -0.10321885  0.4105985   0.14404357  1.45427351\n",
            "  0.76103773  0.12167502  0.44386323  0.33367433  1.49407907 -0.20515826\n",
            "  0.3130677  -0.85409574]\n"
          ],
          "name": "stdout"
        }
      ]
    },
    {
      "cell_type": "code",
      "metadata": {
        "colab": {
          "base_uri": "https://localhost:8080/"
        },
        "id": "oav6BtIm6lnF",
        "outputId": "02a61fc0-fd9e-4194-b36e-9b00c996a7dd"
      },
      "source": [
        "y = []\n",
        "for i in range(0,20):\n",
        "  y.append(np.sin(2*np.pi*x[i])+0.1 *N[i])\n",
        "\n",
        "print(y)  "
      ],
      "execution_count": null,
      "outputs": [
        {
          "output_type": "stream",
          "text": [
            "[-0.1255131361689246, -0.9361599023133574, -0.5038689548777531, -0.05419687190912986, 0.6482609092909053, -0.8913135505232375, 0.47718596348113396, -0.6439367470694122, -0.23665710338805993, 0.7096851496815655, -0.9514264801460104, -0.0351290649339728, -0.3385266088093764, -0.438479620442299, 0.47604674565633087, 0.5538786306703276, 0.2761024335826011, -0.888774008364616, -0.9530847074870746, -0.8143259479624742]\n"
          ],
          "name": "stdout"
        }
      ]
    },
    {
      "cell_type": "code",
      "metadata": {
        "colab": {
          "base_uri": "https://localhost:8080/"
        },
        "id": "a4nmGUVj7O-X",
        "outputId": "5222521d-3953-4d90-e2bf-bcaf69518deb"
      },
      "source": [
        "print(len(y))\n",
        "print('y = ', y)\n",
        "print(len(x))\n",
        "print('X = ', x)\n",
        "print(len(N))\n",
        "print(type(x))\n",
        "print(type(y))\n",
        "y = np.asarray(y)\n",
        "print(type(y))"
      ],
      "execution_count": null,
      "outputs": [
        {
          "output_type": "stream",
          "text": [
            "20\n",
            "y =  [-0.1255131361689246, -0.9361599023133574, -0.5038689548777531, -0.05419687190912986, 0.6482609092909053, -0.8913135505232375, 0.47718596348113396, -0.6439367470694122, -0.23665710338805993, 0.7096851496815655, -0.9514264801460104, -0.0351290649339728, -0.3385266088093764, -0.438479620442299, 0.47604674565633087, 0.5538786306703276, 0.2761024335826011, -0.888774008364616, -0.9530847074870746, -0.8143259479624742]\n",
            "20\n",
            "X =  [0.5488135  0.71518937 0.60276338 0.54488318 0.4236548  0.64589411\n",
            " 0.43758721 0.891773   0.96366276 0.38344152 0.79172504 0.52889492\n",
            " 0.56804456 0.92559664 0.07103606 0.0871293  0.0202184  0.83261985\n",
            " 0.77815675 0.87001215]\n",
            "20\n",
            "<class 'numpy.ndarray'>\n",
            "<class 'list'>\n",
            "<class 'numpy.ndarray'>\n"
          ],
          "name": "stdout"
        }
      ]
    },
    {
      "cell_type": "code",
      "metadata": {
        "colab": {
          "base_uri": "https://localhost:8080/"
        },
        "id": "yzxx0T5N7Rq5",
        "outputId": "1f2d3a30-2ad6-40f7-ccdc-e205ac9c10b4"
      },
      "source": [
        "x_train = []\n",
        "for i in range(0,10):\n",
        "  x_train.append(x[i])\n",
        "\n",
        "print(x_train)  "
      ],
      "execution_count": null,
      "outputs": [
        {
          "output_type": "stream",
          "text": [
            "[0.5488135039273248, 0.7151893663724195, 0.6027633760716439, 0.5448831829968969, 0.4236547993389047, 0.6458941130666561, 0.4375872112626925, 0.8917730007820798, 0.9636627605010293, 0.3834415188257777]\n"
          ],
          "name": "stdout"
        }
      ]
    },
    {
      "cell_type": "code",
      "metadata": {
        "colab": {
          "base_uri": "https://localhost:8080/"
        },
        "id": "fvSeCXWB79Ui",
        "outputId": "2edf0263-7477-405f-aa8d-9b8b40ee52ec"
      },
      "source": [
        "y_train = []\n",
        "for i in range(0,10):\n",
        "  y_train.append(y[i])\n",
        "\n",
        "print(y_train)  "
      ],
      "execution_count": null,
      "outputs": [
        {
          "output_type": "stream",
          "text": [
            "[-0.1255131361689246, -0.9361599023133574, -0.5038689548777531, -0.05419687190912986, 0.6482609092909053, -0.8913135505232375, 0.47718596348113396, -0.6439367470694122, -0.23665710338805993, 0.7096851496815655]\n"
          ],
          "name": "stdout"
        }
      ]
    },
    {
      "cell_type": "code",
      "metadata": {
        "colab": {
          "base_uri": "https://localhost:8080/"
        },
        "id": "f4vz7Axd7_o1",
        "outputId": "f5cd011f-64f8-41db-d726-9806b769403b"
      },
      "source": [
        "x_test = []\n",
        "for i in range(10, 20):\n",
        "  x_test.append(x[i])\n",
        "\n",
        "print(x_test)  "
      ],
      "execution_count": null,
      "outputs": [
        {
          "output_type": "stream",
          "text": [
            "[0.7917250380826646, 0.5288949197529045, 0.5680445610939323, 0.925596638292661, 0.07103605819788694, 0.08712929970154071, 0.02021839744032572, 0.832619845547938, 0.7781567509498505, 0.8700121482468192]\n"
          ],
          "name": "stdout"
        }
      ]
    },
    {
      "cell_type": "code",
      "metadata": {
        "colab": {
          "base_uri": "https://localhost:8080/"
        },
        "id": "tRNszCMq8EnD",
        "outputId": "4559856b-520d-42e4-d3a3-834b7978032a"
      },
      "source": [
        "y_test = []\n",
        "for i in range(10,20):\n",
        "  y_test.append(y[i])\n",
        "\n",
        "print(y_test)"
      ],
      "execution_count": null,
      "outputs": [
        {
          "output_type": "stream",
          "text": [
            "[-0.9514264801460104, -0.0351290649339728, -0.3385266088093764, -0.438479620442299, 0.47604674565633087, 0.5538786306703276, 0.2761024335826011, -0.888774008364616, -0.9530847074870746, -0.8143259479624742]\n"
          ],
          "name": "stdout"
        }
      ]
    },
    {
      "cell_type": "code",
      "metadata": {
        "colab": {
          "base_uri": "https://localhost:8080/"
        },
        "id": "_36kXMXK8Pa1",
        "outputId": "ed8d047c-bea2-4990-dafc-e39fa4945c33"
      },
      "source": [
        "print(type(x_train))\n",
        "print(type(y_train))\n",
        "print(type(x_test))\n",
        "print(type(y_test))"
      ],
      "execution_count": null,
      "outputs": [
        {
          "output_type": "stream",
          "text": [
            "<class 'list'>\n",
            "<class 'list'>\n",
            "<class 'list'>\n",
            "<class 'list'>\n"
          ],
          "name": "stdout"
        }
      ]
    },
    {
      "cell_type": "code",
      "metadata": {
        "colab": {
          "base_uri": "https://localhost:8080/"
        },
        "id": "AnPvz8ml8czl",
        "outputId": "09ae589a-8fc8-430e-ae09-a5daed3e6540"
      },
      "source": [
        "x_train = np.asarray(x_train)\n",
        "print(type(x_train))\n",
        "y_train = np.asarray(y_train)\n",
        "print(type(y_train))\n",
        "x_test = np.asarray(x_test)\n",
        "print(type(x_test))\n",
        "y_test =np.asarray(y_test)\n",
        "print(type(y_test))\n",
        "\n"
      ],
      "execution_count": null,
      "outputs": [
        {
          "output_type": "stream",
          "text": [
            "<class 'numpy.ndarray'>\n",
            "<class 'numpy.ndarray'>\n",
            "<class 'numpy.ndarray'>\n",
            "<class 'numpy.ndarray'>\n"
          ],
          "name": "stdout"
        }
      ]
    },
    {
      "cell_type": "code",
      "metadata": {
        "id": "LIuDLxPg8Jay"
      },
      "source": [
        "np.random.seed(0)\n",
        "xt = x_train[:, np.newaxis]\n",
        "yt = y_train[:, np.newaxis]"
      ],
      "execution_count": null,
      "outputs": []
    },
    {
      "cell_type": "code",
      "metadata": {
        "id": "UvUUf3rPBtIe"
      },
      "source": [
        "np.random.seed(0)\n",
        "xtest = x_test[:,np.newaxis]\n",
        "ytest = y_test[:,np.newaxis]"
      ],
      "execution_count": null,
      "outputs": []
    },
    {
      "cell_type": "code",
      "metadata": {
        "colab": {
          "base_uri": "https://localhost:8080/",
          "height": 282
        },
        "id": "d3dvJKvp8ysh",
        "outputId": "f882e74a-ea34-4020-d584-53979edae99a"
      },
      "source": [
        "plt.scatter(x,y)"
      ],
      "execution_count": null,
      "outputs": [
        {
          "output_type": "execute_result",
          "data": {
            "text/plain": [
              "<matplotlib.collections.PathCollection at 0x7fd5cbe66550>"
            ]
          },
          "metadata": {
            "tags": []
          },
          "execution_count": 549
        },
        {
          "output_type": "display_data",
          "data": {
            "image/png": "[encoded data removed]",
            "text/plain": [
              "<Figure size 432x288 with 1 Axes>"
            ]
          },
          "metadata": {
            "tags": [],
            "needs_background": "light"
          }
        }
      ]
    },
    {
      "cell_type": "code",
      "metadata": {
        "colab": {
          "base_uri": "https://localhost:8080/",
          "height": 282
        },
        "id": "jLGLyqXc-3G7",
        "outputId": "7a2a8c98-d2ba-4979-9002-e64858bcdcfa"
      },
      "source": [
        "plt.scatter(xt,yt)"
      ],
      "execution_count": null,
      "outputs": [
        {
          "output_type": "execute_result",
          "data": {
            "text/plain": [
              "<matplotlib.collections.PathCollection at 0x7fd5cc3a4e10>"
            ]
          },
          "metadata": {
            "tags": []
          },
          "execution_count": 550
        },
        {
          "output_type": "display_data",
          "data": {
            "image/png": "[encoded data removed]",
            "text/plain": [
              "<Figure size 432x288 with 1 Axes>"
            ]
          },
          "metadata": {
            "tags": [],
            "needs_background": "light"
          }
        }
      ]
    },
    {
      "cell_type": "code",
      "metadata": {
        "id": "cCnYsNpo9JBD"
      },
      "source": [
        "model = LinearRegression()\n",
        "model.fit(xt,yt)\n",
        "y_pred = model.predict(xt)"
      ],
      "execution_count": null,
      "outputs": []
    },
    {
      "cell_type": "code",
      "metadata": {
        "colab": {
          "base_uri": "https://localhost:8080/",
          "height": 265
        },
        "id": "PN-eeCkP9YWv",
        "outputId": "03dad630-8360-4157-ed02-fe5ec34eccba"
      },
      "source": [
        "plt.scatter(xt, yt, s=10)\n",
        "plt.plot(xt, y_pred, color='r')\n",
        "plt.show()"
      ],
      "execution_count": null,
      "outputs": [
        {
          "output_type": "display_data",
          "data": {
            "image/png": "[encoded data removed]",
            "text/plain": [
              "<Figure size 432x288 with 1 Axes>"
            ]
          },
          "metadata": {
            "tags": [],
            "needs_background": "light"
          }
        }
      ]
    },
    {
      "cell_type": "code",
      "metadata": {
        "id": "kGv3EyPR9ekj"
      },
      "source": [
        "np.random.seed(0)\n",
        "polynomial_features0= PolynomialFeatures(degree=0)\n",
        "x_poly0 = polynomial_features0.fit_transform(xt)"
      ],
      "execution_count": null,
      "outputs": []
    },
    {
      "cell_type": "code",
      "metadata": {
        "id": "pQk1iTlO9jxq"
      },
      "source": [
        "model0 = LinearRegression()\n",
        "model0.fit(x_poly0, yt)\n",
        "y_poly_pred0 = model0.predict(x_poly0)"
      ],
      "execution_count": null,
      "outputs": []
    },
    {
      "cell_type": "code",
      "metadata": {
        "id": "v9hP2ycv9mq-"
      },
      "source": [
        "rmse0 = np.sqrt(mean_squared_error(yt,y_poly_pred0))\n",
        "r20 = r2_score(yt,y_poly_pred0)"
      ],
      "execution_count": null,
      "outputs": []
    },
    {
      "cell_type": "code",
      "metadata": {
        "colab": {
          "base_uri": "https://localhost:8080/"
        },
        "id": "5Pdb6bI_9peE",
        "outputId": "0a1f5fd8-bb7d-4114-d58a-b845c72b7a70"
      },
      "source": [
        "print(\"RMSE:\",rmse0)\n",
        "print(\"R2:\",r20)\n",
        "print('weights:')\n",
        "print(model0.coef_)"
      ],
      "execution_count": null,
      "outputs": [
        {
          "output_type": "stream",
          "text": [
            "RMSE: 0.5764892975280563\n",
            "R2: 0.0\n",
            "weights:\n",
            "[[0.]]\n"
          ],
          "name": "stdout"
        }
      ]
    },
    {
      "cell_type": "code",
      "metadata": {
        "colab": {
          "base_uri": "https://localhost:8080/",
          "height": 296
        },
        "id": "ToIQUA-Q9sBA",
        "outputId": "b20aa89e-3938-424d-a71c-9aa8a298c6c3"
      },
      "source": [
        "plt.scatter(xt, yt, s=10)\n",
        "plt.plot(xt, y_poly_pred0, color= 'm')\n",
        "plt.title('M=0')\n",
        "plt.xlabel('X_train_data')\n",
        "plt.ylabel('y=sin(2*pi*X)+N*0.1')\n",
        "plt.show()"
      ],
      "execution_count": null,
      "outputs": [
        {
          "output_type": "display_data",
          "data": {
            "image/png": "[encoded data removed]",
            "text/plain": [
              "<Figure size 432x288 with 1 Axes>"
            ]
          },
          "metadata": {
            "tags": [],
            "needs_background": "light"
          }
        }
      ]
    },
    {
      "cell_type": "code",
      "metadata": {
        "id": "rTFEBwzRD_6d"
      },
      "source": [
        "np.random.seed(0)\n",
        "polynomial_features1= PolynomialFeatures(degree=1)\n",
        "x_poly1 = polynomial_features1.fit_transform(xt)\n",
        "\n"
      ],
      "execution_count": null,
      "outputs": []
    },
    {
      "cell_type": "code",
      "metadata": {
        "id": "3LGTKqxESkfS"
      },
      "source": [
        "model1 = LinearRegression()\n",
        "model1.fit(x_poly1, yt)\n",
        "y_poly_pred1 = model1.predict(x_poly1)"
      ],
      "execution_count": null,
      "outputs": []
    },
    {
      "cell_type": "code",
      "metadata": {
        "colab": {
          "base_uri": "https://localhost:8080/"
        },
        "id": "f068xgk-SmDC",
        "outputId": "7b108964-c040-4b39-e746-d131fa76a228"
      },
      "source": [
        "rmse = np.sqrt(mean_squared_error(yt,y_poly_pred1))\n",
        "r2 = r2_score(yt,y_poly_pred1)\n",
        "print(\"RMSE:\",rmse)\n",
        "print(\"R2:\",r2)\n",
        "print(model1.coef_)"
      ],
      "execution_count": null,
      "outputs": [
        {
          "output_type": "stream",
          "text": [
            "RMSE: 0.4163173419073175\n",
            "R2: 0.47848535829764915\n",
            "[[ 0.         -2.16166457]]\n"
          ],
          "name": "stdout"
        }
      ]
    },
    {
      "cell_type": "code",
      "metadata": {
        "colab": {
          "base_uri": "https://localhost:8080/"
        },
        "id": "RKJlu7KuI_mr",
        "outputId": "285b9f8d-1d20-49c3-88c9-7655f4e1c01e"
      },
      "source": [
        "print(type(xt))\n",
        "print(xt)\n",
        "print(type(yt))\n",
        "print(yt)"
      ],
      "execution_count": null,
      "outputs": [
        {
          "output_type": "stream",
          "text": [
            "<class 'numpy.ndarray'>\n",
            "[[0.5488135 ]\n",
            " [0.71518937]\n",
            " [0.60276338]\n",
            " [0.54488318]\n",
            " [0.4236548 ]\n",
            " [0.64589411]\n",
            " [0.43758721]\n",
            " [0.891773  ]\n",
            " [0.96366276]\n",
            " [0.38344152]]\n",
            "<class 'numpy.ndarray'>\n",
            "[[-0.12551314]\n",
            " [-0.9361599 ]\n",
            " [-0.50386895]\n",
            " [-0.05419687]\n",
            " [ 0.64826091]\n",
            " [-0.89131355]\n",
            " [ 0.47718596]\n",
            " [-0.64393675]\n",
            " [-0.2366571 ]\n",
            " [ 0.70968515]]\n"
          ],
          "name": "stdout"
        }
      ]
    },
    {
      "cell_type": "code",
      "metadata": {
        "colab": {
          "base_uri": "https://localhost:8080/",
          "height": 296
        },
        "id": "WQlivAB0EXrF",
        "outputId": "7890e59b-6605-4537-a8f0-83b8e2df3f16"
      },
      "source": [
        "plt.scatter(xt, yt, s=10)\n",
        "plt.plot(xt, y_poly_pred1, color= 'm')\n",
        "plt.title('M=1')\n",
        "plt.xlabel('X_train_data')\n",
        "plt.ylabel('y=sin(2*pi*X)+N*0.1')\n",
        "plt.show()"
      ],
      "execution_count": null,
      "outputs": [
        {
          "output_type": "display_data",
          "data": {
            "image/png": "[encoded data removed]",
            "text/plain": [
              "<Figure size 432x288 with 1 Axes>"
            ]
          },
          "metadata": {
            "tags": [],
            "needs_background": "light"
          }
        }
      ]
    },
    {
      "cell_type": "code",
      "metadata": {
        "id": "iERoZbdQEdYE"
      },
      "source": [
        "np.random.seed(0)\n",
        "polynomial_features3= PolynomialFeatures(degree=3)\n",
        "x_poly3 = polynomial_features3.fit_transform(xt)\n"
      ],
      "execution_count": null,
      "outputs": []
    },
    {
      "cell_type": "code",
      "metadata": {
        "id": "ciyJfd2LSgOR"
      },
      "source": [
        "model3 = LinearRegression()\n",
        "model3.fit(x_poly3, yt)\n",
        "y_poly_pred3 = model3.predict(x_poly3)"
      ],
      "execution_count": null,
      "outputs": []
    },
    {
      "cell_type": "code",
      "metadata": {
        "colab": {
          "base_uri": "https://localhost:8080/"
        },
        "id": "okX30DCsShb3",
        "outputId": "1261044f-a0b6-4894-e817-deae4d906f14"
      },
      "source": [
        "rmse = np.sqrt(mean_squared_error(yt,y_poly_pred3))\n",
        "r2 = r2_score(yt,y_poly_pred3)\n",
        "print(\"RMSE:\",rmse)\n",
        "print(\"R2:\",r2)\n",
        "print(model3.coef_)"
      ],
      "execution_count": null,
      "outputs": [
        {
          "output_type": "stream",
          "text": [
            "RMSE: 0.08784166688450087\n",
            "R2: 0.976782329762228\n",
            "[[  0.          15.43715739 -42.16199284  27.48786651]]\n"
          ],
          "name": "stdout"
        }
      ]
    },
    {
      "cell_type": "code",
      "metadata": {
        "colab": {
          "base_uri": "https://localhost:8080/"
        },
        "id": "Tz3gIk0DIu_0",
        "outputId": "9a6a53a3-50a0-4c06-e84c-0666b0c6a741"
      },
      "source": [
        "print(type(xt))\n",
        "print(xt)\n",
        "print(type(yt))\n",
        "print(yt)"
      ],
      "execution_count": null,
      "outputs": [
        {
          "output_type": "stream",
          "text": [
            "<class 'numpy.ndarray'>\n",
            "[[0.5488135 ]\n",
            " [0.71518937]\n",
            " [0.60276338]\n",
            " [0.54488318]\n",
            " [0.4236548 ]\n",
            " [0.64589411]\n",
            " [0.43758721]\n",
            " [0.891773  ]\n",
            " [0.96366276]\n",
            " [0.38344152]]\n",
            "<class 'numpy.ndarray'>\n",
            "[[-0.12551314]\n",
            " [-0.9361599 ]\n",
            " [-0.50386895]\n",
            " [-0.05419687]\n",
            " [ 0.64826091]\n",
            " [-0.89131355]\n",
            " [ 0.47718596]\n",
            " [-0.64393675]\n",
            " [-0.2366571 ]\n",
            " [ 0.70968515]]\n"
          ],
          "name": "stdout"
        }
      ]
    },
    {
      "cell_type": "code",
      "metadata": {
        "colab": {
          "base_uri": "https://localhost:8080/",
          "height": 296
        },
        "id": "Ux9-n89BE7UG",
        "outputId": "d7f4264c-e8a7-4352-9384-f8cd634fd4c0"
      },
      "source": [
        "plt.scatter(xt, yt, s=10)\n",
        "sort_axis = operator.itemgetter(0)\n",
        "sorted_zip = sorted(zip(xt,y_poly_pred3), key=sort_axis)\n",
        "xt, y_poly_pred3 = zip(*sorted_zip)\n",
        "plt.plot(xt, y_poly_pred3, color= 'm')\n",
        "plt.title('M=3')\n",
        "plt.xlabel('X_train_data')\n",
        "plt.ylabel('y=sin(2*pi*X)+N*0.1')\n",
        "plt.show()"
      ],
      "execution_count": null,
      "outputs": [
        {
          "output_type": "display_data",
          "data": {
            "image/png": "[encoded data removed]",
            "text/plain": [
              "<Figure size 432x288 with 1 Axes>"
            ]
          },
          "metadata": {
            "tags": [],
            "needs_background": "light"
          }
        }
      ]
    },
    {
      "cell_type": "code",
      "metadata": {
        "colab": {
          "base_uri": "https://localhost:8080/"
        },
        "id": "WqAe2fSNMfdJ",
        "outputId": "4e586bd0-4082-444d-fc92-d896877542ad"
      },
      "source": [
        "x_train_dup = []\n",
        "for i in range(0,10):\n",
        "  x_train_dup.append(x[i])\n",
        "\n",
        "print(x_train_dup) \n",
        "\n",
        "y_train_dup = []\n",
        "for i in range(0,10):\n",
        "  y_train_dup.append(y[i])\n",
        "\n",
        "print(y_train_dup)\n",
        "\n",
        "x_train_dup = np.asarray(x_train_dup)\n",
        "print(type(x_train_dup))\n",
        "y_train_dup = np.asarray(y_train_dup)\n",
        "print(type(y_train_dup))\n",
        "\n",
        "np.random.seed(0)\n",
        "xta = x_train_dup[:, np.newaxis]\n",
        "yta = y_train_dup[:, np.newaxis]\n",
        "\n",
        "print(xta)\n",
        "print(type(xta))\n",
        "\n",
        "print(yta)\n",
        "print(type(yta))"
      ],
      "execution_count": null,
      "outputs": [
        {
          "output_type": "stream",
          "text": [
            "[0.5488135039273248, 0.7151893663724195, 0.6027633760716439, 0.5448831829968969, 0.4236547993389047, 0.6458941130666561, 0.4375872112626925, 0.8917730007820798, 0.9636627605010293, 0.3834415188257777]\n",
            "[-0.1255131361689246, -0.9361599023133574, -0.5038689548777531, -0.05419687190912986, 0.6482609092909053, -0.8913135505232375, 0.47718596348113396, -0.6439367470694122, -0.23665710338805993, 0.7096851496815655]\n",
            "<class 'numpy.ndarray'>\n",
            "<class 'numpy.ndarray'>\n",
            "[[0.5488135 ]\n",
            " [0.71518937]\n",
            " [0.60276338]\n",
            " [0.54488318]\n",
            " [0.4236548 ]\n",
            " [0.64589411]\n",
            " [0.43758721]\n",
            " [0.891773  ]\n",
            " [0.96366276]\n",
            " [0.38344152]]\n",
            "<class 'numpy.ndarray'>\n",
            "[[-0.12551314]\n",
            " [-0.9361599 ]\n",
            " [-0.50386895]\n",
            " [-0.05419687]\n",
            " [ 0.64826091]\n",
            " [-0.89131355]\n",
            " [ 0.47718596]\n",
            " [-0.64393675]\n",
            " [-0.2366571 ]\n",
            " [ 0.70968515]]\n",
            "<class 'numpy.ndarray'>\n"
          ],
          "name": "stdout"
        }
      ]
    },
    {
      "cell_type": "code",
      "metadata": {
        "id": "wUben_XVFo32"
      },
      "source": [
        "np.random.seed(0)\n",
        "polynomial_features9= PolynomialFeatures(degree=9)\n",
        "x_poly9 = polynomial_features9.fit_transform(xta)\n"
      ],
      "execution_count": null,
      "outputs": []
    },
    {
      "cell_type": "code",
      "metadata": {
        "id": "jseV9ss6SXjK"
      },
      "source": [
        "model9 = LinearRegression()\n",
        "model9.fit(x_poly9, yta)\n",
        "y_poly_pred9 = model9.predict(x_poly9)"
      ],
      "execution_count": null,
      "outputs": []
    },
    {
      "cell_type": "code",
      "metadata": {
        "colab": {
          "base_uri": "https://localhost:8080/"
        },
        "id": "wIKU-YPASZ0s",
        "outputId": "2186b523-ab1c-4019-ac8b-6154b95ac9df"
      },
      "source": [
        "rmse = np.sqrt(mean_squared_error(yta,y_poly_pred9))\n",
        "r2 = r2_score(yta,y_poly_pred9)\n",
        "print(\"RMSE:\",rmse)\n",
        "print(\"R2:\",r2)\n",
        "print(model9.coef_)"
      ],
      "execution_count": null,
      "outputs": [
        {
          "output_type": "stream",
          "text": [
            "RMSE: 2.0006706363103103e-08\n",
            "R2: 0.9999999999999988\n",
            "[[ 0.00000000e+00  6.93000903e+06 -4.81357721e+07  1.92905320e+08\n",
            "  -4.91465040e+08  8.25359659e+08 -9.13554146e+08  6.42557502e+08\n",
            "  -2.60569027e+08  4.64108057e+07]]\n"
          ],
          "name": "stdout"
        }
      ]
    },
    {
      "cell_type": "code",
      "metadata": {
        "colab": {
          "base_uri": "https://localhost:8080/",
          "height": 296
        },
        "id": "a3b9CLjQGn6x",
        "outputId": "4ad59bc2-6b6e-4387-dd26-43c5d89f659c"
      },
      "source": [
        "plt.scatter(xta,yta,s=10)\n",
        "sort_axis = operator.itemgetter(0)\n",
        "sorted_zip = sorted(zip(xta, y_poly_pred9), key=sort_axis)\n",
        "xta, y_poly_pred9 = zip(*sorted_zip)\n",
        "plt.plot(xta, y_poly_pred9, color='m')\n",
        "plt.title('M = 9')\n",
        "plt.xlabel('X_train_data')\n",
        "plt.ylabel('y=sin(2*pi*X)+N*0.1')\n",
        "plt.show()"
      ],
      "execution_count": null,
      "outputs": [
        {
          "output_type": "display_data",
          "data": {
            "image/png": "[encoded data removed]",
            "text/plain": [
              "<Figure size 432x288 with 1 Axes>"
            ]
          },
          "metadata": {
            "tags": [],
            "needs_background": "light"
          }
        }
      ]
    },
    {
      "cell_type": "code",
      "metadata": {
        "id": "LWJfPTNONCbz"
      },
      "source": [
        "order_weights = {'M=0':[0,\"\",\"\",\"\",\"\",\"\",\"\",\"\",\"\",\"\" ],'M=1':[0,-2.16166457,\"\",\"\",\"\",\"\",\"\",\"\",\"\",\"\"],'M=3':[ 0,15.43715739, -42.16199284, 27.48786651,\"\",\"\",\"\",\"\",\"\",\"\"],'M=9':[0.00000000e+00,6.93000903e+06,-4.81357721e+07,1.92905320e+08,\n",
        "  -4.91465040e+08,8.25359659e+08,-9.13554146e+08,6.42557502e+08,-2.60569027e+08, 4.64108057e+07]} "
      ],
      "execution_count": null,
      "outputs": []
    },
    {
      "cell_type": "code",
      "metadata": {
        "id": "qCpe8gyZOWhT"
      },
      "source": [
        "df = pd.DataFrame(order_weights, index=['w0', 'w1', 'w2', 'w3', 'w4', 'w5', 'w6', 'w7', 'w8', 'w9'])"
      ],
      "execution_count": null,
      "outputs": []
    },
    {
      "cell_type": "code",
      "metadata": {
        "colab": {
          "base_uri": "https://localhost:8080/",
          "height": 359
        },
        "id": "oPMv7H6kOZEY",
        "outputId": "3ec50ef8-9a01-4b06-b696-7ce5c018aafa"
      },
      "source": [
        "df"
      ],
      "execution_count": null,
      "outputs": [
        {
          "output_type": "execute_result",
          "data": {
            "text/html": [
              "<div>\n",
              "<style scoped>\n",
              "    .dataframe tbody tr th:only-of-type {\n",
              "        vertical-align: middle;\n",
              "    }\n",
              "\n",
              "    .dataframe tbody tr th {\n",
              "        vertical-align: top;\n",
              "    }\n",
              "\n",
              "    .dataframe thead th {\n",
              "        text-align: right;\n",
              "    }\n",
              "</style>\n",
              "<table border=\"1\" class=\"dataframe\">\n",
              "  <thead>\n",
              "    <tr style=\"text-align: right;\">\n",
              "      <th></th>\n",
              "      <th>M=0</th>\n",
              "      <th>M=1</th>\n",
              "      <th>M=3</th>\n",
              "      <th>M=9</th>\n",
              "    </tr>\n",
              "  </thead>\n",
              "  <tbody>\n",
              "    <tr>\n",
              "      <th>w0</th>\n",
              "      <td>0</td>\n",
              "      <td>0</td>\n",
              "      <td>0</td>\n",
              "      <td>0.000000e+00</td>\n",
              "    </tr>\n",
              "    <tr>\n",
              "      <th>w1</th>\n",
              "      <td></td>\n",
              "      <td>-2.16166</td>\n",
              "      <td>15.4372</td>\n",
              "      <td>6.930009e+06</td>\n",
              "    </tr>\n",
              "    <tr>\n",
              "      <th>w2</th>\n",
              "      <td></td>\n",
              "      <td></td>\n",
              "      <td>-42.162</td>\n",
              "      <td>-4.813577e+07</td>\n",
              "    </tr>\n",
              "    <tr>\n",
              "      <th>w3</th>\n",
              "      <td></td>\n",
              "      <td></td>\n",
              "      <td>27.4879</td>\n",
              "      <td>1.929053e+08</td>\n",
              "    </tr>\n",
              "    <tr>\n",
              "      <th>w4</th>\n",
              "      <td></td>\n",
              "      <td></td>\n",
              "      <td></td>\n",
              "      <td>-4.914650e+08</td>\n",
              "    </tr>\n",
              "    <tr>\n",
              "      <th>w5</th>\n",
              "      <td></td>\n",
              "      <td></td>\n",
              "      <td></td>\n",
              "      <td>8.253597e+08</td>\n",
              "    </tr>\n",
              "    <tr>\n",
              "      <th>w6</th>\n",
              "      <td></td>\n",
              "      <td></td>\n",
              "      <td></td>\n",
              "      <td>-9.135541e+08</td>\n",
              "    </tr>\n",
              "    <tr>\n",
              "      <th>w7</th>\n",
              "      <td></td>\n",
              "      <td></td>\n",
              "      <td></td>\n",
              "      <td>6.425575e+08</td>\n",
              "    </tr>\n",
              "    <tr>\n",
              "      <th>w8</th>\n",
              "      <td></td>\n",
              "      <td></td>\n",
              "      <td></td>\n",
              "      <td>-2.605690e+08</td>\n",
              "    </tr>\n",
              "    <tr>\n",
              "      <th>w9</th>\n",
              "      <td></td>\n",
              "      <td></td>\n",
              "      <td></td>\n",
              "      <td>4.641081e+07</td>\n",
              "    </tr>\n",
              "  </tbody>\n",
              "</table>\n",
              "</div>"
            ],
            "text/plain": [
              "   M=0      M=1      M=3           M=9\n",
              "w0   0        0        0  0.000000e+00\n",
              "w1     -2.16166  15.4372  6.930009e+06\n",
              "w2               -42.162 -4.813577e+07\n",
              "w3               27.4879  1.929053e+08\n",
              "w4                       -4.914650e+08\n",
              "w5                        8.253597e+08\n",
              "w6                       -9.135541e+08\n",
              "w7                        6.425575e+08\n",
              "w8                       -2.605690e+08\n",
              "w9                        4.641081e+07"
            ]
          },
          "metadata": {
            "tags": []
          },
          "execution_count": 575
        }
      ]
    },
    {
      "cell_type": "code",
      "metadata": {
        "colab": {
          "base_uri": "https://localhost:8080/"
        },
        "id": "9Lbl0-FrOr_G",
        "outputId": "50ecb297-cc72-435f-c0da-9b13481ff460"
      },
      "source": [
        "x_train_dup = []\n",
        "for i in range(0,10):\n",
        "  x_train_dup.append(x[i])\n",
        "\n",
        "print(x_train_dup) \n",
        "\n",
        "y_train_dup = []\n",
        "for i in range(0,10):\n",
        "  y_train_dup.append(y[i])\n",
        "\n",
        "print(y_train_dup)\n",
        "\n",
        "x_train_dup = np.asarray(x_train_dup)\n",
        "print(type(x_train_dup))\n",
        "y_train_dup = np.asarray(y_train_dup)\n",
        "print(type(y_train_dup))\n",
        "\n",
        "np.random.seed(0)\n",
        "xta = x_train_dup[:, np.newaxis]\n",
        "yta = y_train_dup[:, np.newaxis]\n",
        "\n",
        "print(xta)\n",
        "print(type(xta))\n",
        "\n",
        "print(yta)\n",
        "print(type(yta))"
      ],
      "execution_count": null,
      "outputs": [
        {
          "output_type": "stream",
          "text": [
            "[0.5488135039273248, 0.7151893663724195, 0.6027633760716439, 0.5448831829968969, 0.4236547993389047, 0.6458941130666561, 0.4375872112626925, 0.8917730007820798, 0.9636627605010293, 0.3834415188257777]\n",
            "[-0.1255131361689246, -0.9361599023133574, -0.5038689548777531, -0.05419687190912986, 0.6482609092909053, -0.8913135505232375, 0.47718596348113396, -0.6439367470694122, -0.23665710338805993, 0.7096851496815655]\n",
            "<class 'numpy.ndarray'>\n",
            "<class 'numpy.ndarray'>\n",
            "[[0.5488135 ]\n",
            " [0.71518937]\n",
            " [0.60276338]\n",
            " [0.54488318]\n",
            " [0.4236548 ]\n",
            " [0.64589411]\n",
            " [0.43758721]\n",
            " [0.891773  ]\n",
            " [0.96366276]\n",
            " [0.38344152]]\n",
            "<class 'numpy.ndarray'>\n",
            "[[-0.12551314]\n",
            " [-0.9361599 ]\n",
            " [-0.50386895]\n",
            " [-0.05419687]\n",
            " [ 0.64826091]\n",
            " [-0.89131355]\n",
            " [ 0.47718596]\n",
            " [-0.64393675]\n",
            " [-0.2366571 ]\n",
            " [ 0.70968515]]\n",
            "<class 'numpy.ndarray'>\n"
          ],
          "name": "stdout"
        }
      ]
    },
    {
      "cell_type": "code",
      "metadata": {
        "colab": {
          "base_uri": "https://localhost:8080/"
        },
        "id": "IG_Y_loNOd4w",
        "outputId": "a3ff9ce2-d45b-45e6-8970-29e30eb07f13"
      },
      "source": [
        "print('Train error')\n",
        "for i in range(0,10):\n",
        "    np.random.seed(0)\n",
        "    polynomial_features= PolynomialFeatures(degree=(i))\n",
        "    x_poly = polynomial_features.fit_transform(xta)\n",
        "\n",
        "    model0 = LinearRegression()\n",
        "    model0.fit(x_poly, yta)\n",
        "    y_poly_pred = model0.predict(x_poly)\n",
        "\n",
        "    rmse_train = np.sqrt(mean_squared_error(yta,y_poly_pred))\n",
        "    r2 = r2_score(yta,y_poly_pred)\n",
        "    print(rmse_train)"
      ],
      "execution_count": null,
      "outputs": [
        {
          "output_type": "stream",
          "text": [
            "Train error\n",
            "0.5764892975280563\n",
            "0.4163173419073175\n",
            "0.1383199525501126\n",
            "0.08784166688450087\n",
            "0.058904133415281626\n",
            "0.05857213987174499\n",
            "0.04198015620092721\n",
            "0.013188476571465501\n",
            "0.011938932615813566\n",
            "2.0006706363103103e-08\n"
          ],
          "name": "stdout"
        }
      ]
    },
    {
      "cell_type": "code",
      "metadata": {
        "colab": {
          "base_uri": "https://localhost:8080/"
        },
        "id": "xszQ3Y5FO0PA",
        "outputId": "edc69dda-d166-409e-acbb-97bcd0489c9e"
      },
      "source": [
        "x_test = np.asarray(x_test)\n",
        "print(type(x_test))\n",
        "y_test =np.asarray(y_test)\n",
        "print(type(y_test))\n",
        "np.random.seed(0)\n",
        "xtest = x_test[:,np.newaxis]\n",
        "ytest = y_test[:,np.newaxis]\n",
        "print(xtest)\n",
        "print(type(xtest))\n",
        "print(ytest)\n",
        "print(type(ytest))"
      ],
      "execution_count": null,
      "outputs": [
        {
          "output_type": "stream",
          "text": [
            "<class 'numpy.ndarray'>\n",
            "<class 'numpy.ndarray'>\n",
            "[[0.79172504]\n",
            " [0.52889492]\n",
            " [0.56804456]\n",
            " [0.92559664]\n",
            " [0.07103606]\n",
            " [0.0871293 ]\n",
            " [0.0202184 ]\n",
            " [0.83261985]\n",
            " [0.77815675]\n",
            " [0.87001215]]\n",
            "<class 'numpy.ndarray'>\n",
            "[[-0.95142648]\n",
            " [-0.03512906]\n",
            " [-0.33852661]\n",
            " [-0.43847962]\n",
            " [ 0.47604675]\n",
            " [ 0.55387863]\n",
            " [ 0.27610243]\n",
            " [-0.88877401]\n",
            " [-0.95308471]\n",
            " [-0.81432595]]\n",
            "<class 'numpy.ndarray'>\n"
          ],
          "name": "stdout"
        }
      ]
    },
    {
      "cell_type": "code",
      "metadata": {
        "colab": {
          "base_uri": "https://localhost:8080/"
        },
        "id": "-a8Lv_GnPKh0",
        "outputId": "6f6509e4-078b-4bd3-d215-427baa95316e"
      },
      "source": [
        "print('Test error')\n",
        "for i in range(0,10):\n",
        "    np.random.seed(0)\n",
        "    polynomial_features= PolynomialFeatures(degree=(i))\n",
        "    x_poly = polynomial_features.fit_transform(xtest)\n",
        "\n",
        "    model0 = LinearRegression()\n",
        "    model0.fit(x_poly, ytest)\n",
        "    y_poly_pred = model0.predict(x_poly)\n",
        "\n",
        "    rmse_test = np.sqrt(mean_squared_error(ytest,y_poly_pred))\n",
        "    r2 = r2_score(ytest,y_poly_pred)\n",
        "    print(rmse_test)"
      ],
      "execution_count": null,
      "outputs": [
        {
          "output_type": "stream",
          "text": [
            "Test error\n",
            "0.5669953891935355\n",
            "0.22735499063078304\n",
            "0.22699575258874147\n",
            "0.06593855075471791\n",
            "0.028696241105061204\n",
            "0.02614153947511302\n",
            "0.014686023152459413\n",
            "0.004500314411016722\n",
            "0.0029081133046814757\n",
            "5.028418122707963e-11\n"
          ],
          "name": "stdout"
        }
      ]
    },
    {
      "cell_type": "code",
      "metadata": {
        "id": "GBh9BQPfPRU1"
      },
      "source": [
        "np.random.seed(0)\n",
        "M = [0,1,2,3,4,5,6,7,8,9]\n",
        "Train_error = [0.5764892975280563,0.4163173419073175,0.1383199525501126,0.08784166688450087,0.058904133415281626,\n",
        "0.05857213987174499,0.04198015620092721,0.013188476571465501,0.011938932615813566,2.0006706363103103e-08]\n",
        "Test_error = [0.5669953891935355,0.22735499063078304,0.22699575258874147,0.06593855075471791,0.028696241105061204,\n",
        "0.02614153947511302,0.014686023152459413,0.004500314411016722,0.0029081133046814757,5.028418122707963e-11]"
      ],
      "execution_count": null,
      "outputs": []
    },
    {
      "cell_type": "code",
      "metadata": {
        "colab": {
          "base_uri": "https://localhost:8080/",
          "height": 283
        },
        "id": "GwRqAqMOPrpa",
        "outputId": "ba49f613-5eea-48c9-d62b-045d95db8aef"
      },
      "source": [
        "plt.plot(M, Train_error, marker='o', markerfacecolor='red', markersize=6, color='blue', linewidth=2, label = 'Train error')\n",
        "plt.plot(M,Test_error,marker='o',markerfacecolor='blue',markersize=6, color='red', linewidth=2, label = 'Test error' )\n",
        "plt.legend()\n",
        "plt.ylabel('RMSE')\n",
        "plt.xlabel('M')\n",
        "plt.ylim((0,2))\n",
        "plt.xlim((0,9))\n",
        "plt.show()"
      ],
      "execution_count": null,
      "outputs": [
        {
          "output_type": "display_data",
          "data": {
            "image/png": "[encoded data removed]",
            "text/plain": [
              "<Figure size 432x288 with 1 Axes>"
            ]
          },
          "metadata": {
            "tags": [],
            "needs_background": "light"
          }
        }
      ]
    },
    {
      "cell_type": "code",
      "metadata": {
        "colab": {
          "base_uri": "https://localhost:8080/"
        },
        "id": "V8O47YALPuHO",
        "outputId": "d51ad718-c570-4e0c-bf13-c2c97142236f"
      },
      "source": [
        "np.random.seed(0)\n",
        "x100 = np.random.uniform(0, 1, 120)\n",
        "print('X = ', x100)\n",
        "\n",
        "np.random.seed(0)\n",
        "N100 = np.random.normal(0,1,120)\n",
        "print('N =',N100)\n",
        "\n",
        "y100 = []\n",
        "for i in range(0,120):\n",
        "  y100.append(np.sin(2*np.pi*x100[i])+0.1 *N100[i])\n",
        "\n",
        "\n",
        "y_100 = np.asarray(y100)\n",
        "\n",
        "print('Y =', y_100)\n",
        "\n",
        "print(type(x100))\n",
        "print(type(y_100))\n",
        "print(type(N100))\n"
      ],
      "execution_count": null,
      "outputs": [
        {
          "output_type": "stream",
          "text": [
            "X =  [0.5488135  0.71518937 0.60276338 0.54488318 0.4236548  0.64589411\n",
            " 0.43758721 0.891773   0.96366276 0.38344152 0.79172504 0.52889492\n",
            " 0.56804456 0.92559664 0.07103606 0.0871293  0.0202184  0.83261985\n",
            " 0.77815675 0.87001215 0.97861834 0.79915856 0.46147936 0.78052918\n",
            " 0.11827443 0.63992102 0.14335329 0.94466892 0.52184832 0.41466194\n",
            " 0.26455561 0.77423369 0.45615033 0.56843395 0.0187898  0.6176355\n",
            " 0.61209572 0.616934   0.94374808 0.6818203  0.3595079  0.43703195\n",
            " 0.6976312  0.06022547 0.66676672 0.67063787 0.21038256 0.1289263\n",
            " 0.31542835 0.36371077 0.57019677 0.43860151 0.98837384 0.10204481\n",
            " 0.20887676 0.16130952 0.65310833 0.2532916  0.46631077 0.24442559\n",
            " 0.15896958 0.11037514 0.65632959 0.13818295 0.19658236 0.36872517\n",
            " 0.82099323 0.09710128 0.83794491 0.09609841 0.97645947 0.4686512\n",
            " 0.97676109 0.60484552 0.73926358 0.03918779 0.28280696 0.12019656\n",
            " 0.2961402  0.11872772 0.31798318 0.41426299 0.0641475  0.69247212\n",
            " 0.56660145 0.26538949 0.52324805 0.09394051 0.5759465  0.9292962\n",
            " 0.31856895 0.66741038 0.13179786 0.7163272  0.28940609 0.18319136\n",
            " 0.58651293 0.02010755 0.82894003 0.00469548 0.67781654 0.27000797\n",
            " 0.73519402 0.96218855 0.24875314 0.57615733 0.59204193 0.57225191\n",
            " 0.22308163 0.95274901 0.44712538 0.84640867 0.69947928 0.29743695\n",
            " 0.81379782 0.39650574 0.8811032  0.58127287 0.88173536 0.69253159]\n",
            "N = [ 1.76405235  0.40015721  0.97873798  2.2408932   1.86755799 -0.97727788\n",
            "  0.95008842 -0.15135721 -0.10321885  0.4105985   0.14404357  1.45427351\n",
            "  0.76103773  0.12167502  0.44386323  0.33367433  1.49407907 -0.20515826\n",
            "  0.3130677  -0.85409574 -2.55298982  0.6536186   0.8644362  -0.74216502\n",
            "  2.26975462 -1.45436567  0.04575852 -0.18718385  1.53277921  1.46935877\n",
            "  0.15494743  0.37816252 -0.88778575 -1.98079647 -0.34791215  0.15634897\n",
            "  1.23029068  1.20237985 -0.38732682 -0.30230275 -1.04855297 -1.42001794\n",
            " -1.70627019  1.9507754  -0.50965218 -0.4380743  -1.25279536  0.77749036\n",
            " -1.61389785 -0.21274028 -0.89546656  0.3869025  -0.51080514 -1.18063218\n",
            " -0.02818223  0.42833187  0.06651722  0.3024719  -0.63432209 -0.36274117\n",
            " -0.67246045 -0.35955316 -0.81314628 -1.7262826   0.17742614 -0.40178094\n",
            " -1.63019835  0.46278226 -0.90729836  0.0519454   0.72909056  0.12898291\n",
            "  1.13940068 -1.23482582  0.40234164 -0.68481009 -0.87079715 -0.57884966\n",
            " -0.31155253  0.05616534 -1.16514984  0.90082649  0.46566244 -1.53624369\n",
            "  1.48825219  1.89588918  1.17877957 -0.17992484 -1.07075262  1.05445173\n",
            " -0.40317695  1.22244507  0.20827498  0.97663904  0.3563664   0.70657317\n",
            "  0.01050002  1.78587049  0.12691209  0.40198936  1.8831507  -1.34775906\n",
            " -1.270485    0.96939671 -1.17312341  1.94362119 -0.41361898 -0.74745481\n",
            "  1.92294203  1.48051479  1.86755896  0.90604466 -0.86122569  1.91006495\n",
            " -0.26800337  0.8024564   0.94725197 -0.15501009  0.61407937  0.92220667]\n",
            "Y = [-0.12551314 -0.9361599  -0.50386895 -0.05419687  0.64826091 -0.89131355\n",
            "  0.47718596 -0.64393675 -0.2366571   0.70968515 -0.95142648 -0.03512906\n",
            " -0.33852661 -0.43847962  0.47604675  0.55387863  0.27610243 -0.88877401\n",
            " -0.95308471 -0.81432595 -0.38924014 -0.8873151   0.32611981 -1.0558753\n",
            "  0.90357894 -0.9156334   0.78834718 -0.35941284  0.01643163  0.65780444\n",
            "  1.01131559 -0.95061385  0.18326454 -0.61493516  0.08299452 -0.65800706\n",
            " -0.52448534 -0.55013993 -0.38486107 -0.9398678   0.66762514  0.24339694\n",
            " -1.11697907  0.56451892 -0.91730476 -0.92203786  0.8438986   0.80208297\n",
            "  0.75529263  0.73416931 -0.5164443   0.41497039 -0.12406489  0.48006743\n",
            "  0.96398569  0.89154124 -0.81368981  1.03003333  0.14666624  0.96311257\n",
            "  0.77359511  0.60328306 -0.91306196  0.59055755  0.96194465  0.6942503\n",
            " -1.06517215  0.619232   -0.94190606  0.57297258 -0.07446177  0.20859742\n",
            " -0.03155603 -0.7356224  -0.95749135  0.17526274  0.89175016  0.62756192\n",
            "  0.92711509  0.68431447  0.79363478  0.60310447  0.43879256 -1.08900646\n",
            " -0.25753707  1.1849176  -0.02767497  0.53857263 -0.56635652 -0.3243312\n",
            "  0.86830114 -0.74610788  0.7574823  -0.88003802  1.00514107  0.98383959\n",
            " -0.51615055  0.30459066 -0.86680449  0.0696972  -0.71058571  0.85733252\n",
            " -1.12272445 -0.1384081   0.88265697 -0.26609549 -0.58797688 -0.51328425\n",
            "  1.17802527 -0.14449307  0.51289933 -0.73146881 -1.03616295  1.14691592\n",
            " -0.94752862  0.68564984 -0.58475259 -0.50424763 -0.61515025 -0.84329351]\n",
            "<class 'numpy.ndarray'>\n",
            "<class 'numpy.ndarray'>\n",
            "<class 'numpy.ndarray'>\n"
          ],
          "name": "stdout"
        }
      ]
    },
    {
      "cell_type": "code",
      "metadata": {
        "id": "QqeXZAXxQvev"
      },
      "source": [
        "x_100_new= x100[:,np.newaxis]\n",
        "y_100_new = y_100[:,np.newaxis]"
      ],
      "execution_count": null,
      "outputs": []
    },
    {
      "cell_type": "code",
      "metadata": {
        "colab": {
          "base_uri": "https://localhost:8080/"
        },
        "id": "AHLDV047Q4mB",
        "outputId": "11af9917-3e9b-419c-feb9-74f35f0875e2"
      },
      "source": [
        "print(type(x_100_new))\n",
        "print(type(y_100_new))\n",
        "print(len(y_100_new))\n"
      ],
      "execution_count": null,
      "outputs": [
        {
          "output_type": "stream",
          "text": [
            "<class 'numpy.ndarray'>\n",
            "<class 'numpy.ndarray'>\n",
            "120\n"
          ],
          "name": "stdout"
        }
      ]
    },
    {
      "cell_type": "code",
      "metadata": {
        "id": "UysuvjLQRHK-"
      },
      "source": [
        "np.random.seed(0)\n",
        "polynomial_features = PolynomialFeatures(degree=9)\n",
        "x100_poly = polynomial_features.fit_transform(x_100_new)"
      ],
      "execution_count": null,
      "outputs": []
    },
    {
      "cell_type": "code",
      "metadata": {
        "id": "VyzNVc40Q9_9"
      },
      "source": [
        "model = LinearRegression()\n",
        "model.fit(x100_poly, y_100_new)\n",
        "y100_poly_pred = model.predict(x100_poly)"
      ],
      "execution_count": null,
      "outputs": []
    },
    {
      "cell_type": "code",
      "metadata": {
        "colab": {
          "base_uri": "https://localhost:8080/"
        },
        "id": "NHTeJOdtRo8y",
        "outputId": "630a8dbd-6110-416a-8030-3a4b32a82e99"
      },
      "source": [
        "rmse = np.sqrt(mean_squared_error(y_100_new,y100_poly_pred))\n",
        "r2 = r2_score(y_100_new,y100_poly_pred)\n",
        "print(\"RMSE:\",rmse)\n",
        "print(\"R2:\",r2)"
      ],
      "execution_count": null,
      "outputs": [
        {
          "output_type": "stream",
          "text": [
            "RMSE: 0.10066070731684694\n",
            "R2: 0.979971391217057\n"
          ],
          "name": "stdout"
        }
      ]
    },
    {
      "cell_type": "code",
      "metadata": {
        "colab": {
          "base_uri": "https://localhost:8080/",
          "height": 282
        },
        "id": "uO_OU6TxRw4-",
        "outputId": "b10178e3-82b3-4a13-f85e-30cf51382252"
      },
      "source": [
        "plt.scatter(x_100_new, y_100_new)"
      ],
      "execution_count": null,
      "outputs": [
        {
          "output_type": "execute_result",
          "data": {
            "text/plain": [
              "<matplotlib.collections.PathCollection at 0x7fd5cb61bf90>"
            ]
          },
          "metadata": {
            "tags": []
          },
          "execution_count": 588
        },
        {
          "output_type": "display_data",
          "data": {
            "image/png": "[encoded data removed]",
            "text/plain": [
              "<Figure size 432x288 with 1 Axes>"
            ]
          },
          "metadata": {
            "tags": [],
            "needs_background": "light"
          }
        }
      ]
    },
    {
      "cell_type": "code",
      "metadata": {
        "colab": {
          "base_uri": "https://localhost:8080/",
          "height": 295
        },
        "id": "KLMwYCYyRujm",
        "outputId": "0807a14d-11d4-4f72-88ef-8b2ae06ac46a"
      },
      "source": [
        "plt.scatter(x_100_new, y_100_new, s=10)\n",
        "sort_axis = operator.itemgetter(0)\n",
        "sorted_zip = sorted(zip(x_100_new,y100_poly_pred), key=sort_axis)\n",
        "x_100_new, y100_poly_pred = zip(*sorted_zip)\n",
        "plt.plot(x_100_new, y100_poly_pred, color='m')\n",
        "plt.title('M =9')\n",
        "plt.xlabel('120 X data')\n",
        "plt.ylabel('y=sin(2*pi*X)+N*0.1')\n",
        "plt.show()"
      ],
      "execution_count": null,
      "outputs": [
        {
          "output_type": "display_data",
          "data": {
            "image/png": "[encoded data removed]",
            "text/plain": [
              "<Figure size 432x288 with 1 Axes>"
            ]
          },
          "metadata": {
            "tags": [],
            "needs_background": "light"
          }
        }
      ]
    },
    {
      "cell_type": "code",
      "metadata": {
        "id": "mO-ValJfSG54"
      },
      "source": [
        "from sklearn.linear_model import Ridge"
      ],
      "execution_count": null,
      "outputs": []
    },
    {
      "cell_type": "code",
      "metadata": {
        "colab": {
          "base_uri": "https://localhost:8080/"
        },
        "id": "8rNjWIp4Vpjw",
        "outputId": "fc16492c-d39d-4a57-b0e9-461309777745"
      },
      "source": [
        "x_train_new = []\n",
        "for i in range(0,60):\n",
        "  x_train_new.append(x100[i])\n",
        "\n",
        "print(x_train_new) "
      ],
      "execution_count": null,
      "outputs": [
        {
          "output_type": "stream",
          "text": [
            "[0.5488135039273248, 0.7151893663724195, 0.6027633760716439, 0.5448831829968969, 0.4236547993389047, 0.6458941130666561, 0.4375872112626925, 0.8917730007820798, 0.9636627605010293, 0.3834415188257777, 0.7917250380826646, 0.5288949197529045, 0.5680445610939323, 0.925596638292661, 0.07103605819788694, 0.08712929970154071, 0.02021839744032572, 0.832619845547938, 0.7781567509498505, 0.8700121482468192, 0.978618342232764, 0.7991585642167236, 0.46147936225293185, 0.7805291762864555, 0.11827442586893322, 0.6399210213275238, 0.1433532874090464, 0.9446689170495839, 0.5218483217500717, 0.4146619399905236, 0.26455561210462697, 0.7742336894342167, 0.45615033221654855, 0.5684339488686485, 0.018789800436355142, 0.6176354970758771, 0.6120957227224214, 0.6169339968747569, 0.9437480785146242, 0.6818202991034834, 0.359507900573786, 0.43703195379934145, 0.6976311959272649, 0.06022547162926983, 0.6667667154456677, 0.6706378696181594, 0.2103825610738409, 0.1289262976548533, 0.31542835092418386, 0.3637107709426226, 0.5701967704178796, 0.43860151346232035, 0.9883738380592262, 0.10204481074802807, 0.2088767560948347, 0.16130951788499626, 0.6531083254653984, 0.2532916025397821, 0.4663107728563063, 0.24442559200160274]\n"
          ],
          "name": "stdout"
        }
      ]
    },
    {
      "cell_type": "code",
      "metadata": {
        "colab": {
          "base_uri": "https://localhost:8080/"
        },
        "id": "7DwvriKgWEUo",
        "outputId": "b376203a-dd9a-4213-ad2a-aa7f32df61ad"
      },
      "source": [
        "x_test_new = []\n",
        "for i in range(60,120):\n",
        "  x_test_new.append(x100[i])\n",
        "\n",
        "print(x_test_new) "
      ],
      "execution_count": null,
      "outputs": [
        {
          "output_type": "stream",
          "text": [
            "[0.15896958364551972, 0.11037514116430513, 0.6563295894652734, 0.1381829513486138, 0.1965823616800535, 0.3687251706609641, 0.8209932298479351, 0.09710127579306127, 0.8379449074988039, 0.09609840789396307, 0.9764594650133958, 0.4686512016477016, 0.9767610881903371, 0.604845519745046, 0.7392635793983017, 0.039187792254320675, 0.2828069625764096, 0.1201965612131689, 0.29614019752214493, 0.11872771895424405, 0.317983179393976, 0.41426299451466997, 0.06414749634878436, 0.6924721193700198, 0.5666014542065752, 0.2653894909394454, 0.5232480534666997, 0.09394051075844168, 0.5759464955561793, 0.9292961975762141, 0.31856895245132366, 0.6674103799636817, 0.13179786240439217, 0.7163272041185655, 0.2894060929472011, 0.18319136200711683, 0.5865129348100832, 0.020107546187493552, 0.8289400292173631, 0.004695476192547066, 0.6778165367962301, 0.27000797319216485, 0.7351940221225949, 0.9621885451174382, 0.24875314351995803, 0.5761573344178369, 0.592041931271839, 0.5722519057908734, 0.2230816326406183, 0.952749011516985, 0.44712537861762736, 0.8464086724711278, 0.6994792753175043, 0.29743695085513366, 0.8137978197024772, 0.39650574084698464, 0.8811031971111616, 0.5812728726358587, 0.8817353618548528, 0.6925315900777659]\n"
          ],
          "name": "stdout"
        }
      ]
    },
    {
      "cell_type": "code",
      "metadata": {
        "colab": {
          "base_uri": "https://localhost:8080/"
        },
        "id": "-hXtISJWWNfM",
        "outputId": "425d8ade-5a27-465e-e86e-c502a21b2476"
      },
      "source": [
        "y_train_new = []\n",
        "for i in range(0,60):\n",
        "  y_train_new.append(y_100[i])\n",
        "\n",
        "print(y_train_new) "
      ],
      "execution_count": null,
      "outputs": [
        {
          "output_type": "stream",
          "text": [
            "[-0.1255131361689246, -0.9361599023133574, -0.5038689548777531, -0.05419687190912986, 0.6482609092909053, -0.8913135505232375, 0.47718596348113396, -0.6439367470694122, -0.23665710338805993, 0.7096851496815655, -0.9514264801460104, -0.0351290649339728, -0.3385266088093764, -0.438479620442299, 0.47604674565633087, 0.5538786306703276, 0.2761024335826011, -0.888774008364616, -0.9530847074870746, -0.8143259479624742, -0.3892401420597066, -0.8873150985532285, 0.326119809202285, -1.0558752978011479, 0.9035789366743807, -0.915633401605682, 0.7883471793958099, -0.35941284332077794, 0.016431625257416954, 0.6578044397296462, 1.011315592572868, -0.9506138487786349, 0.18326454128991887, -0.614935162246458, 0.08299451896900872, -0.6580070599491938, -0.5244853426087919, -0.5501399263616717, -0.3848610656227341, -0.9398677967203978, 0.6676251443205596, 0.2433969442679402, -1.1169790707211842, 0.5645189181358504, -0.9173047633346433, -0.9220378649524602, 0.8438986028258316, 0.8020829694742839, 0.7552926311583826, 0.7341693066056131, -0.5164443003880755, 0.4149703854438642, -0.12406489327890508, 0.4800674255216143, 0.9639856896687259, 0.8915412354838372, -0.8136898110227945, 1.0300333300321218, 0.1466662413995145, 0.9631125694453034]\n"
          ],
          "name": "stdout"
        }
      ]
    },
    {
      "cell_type": "code",
      "metadata": {
        "colab": {
          "base_uri": "https://localhost:8080/"
        },
        "id": "SyTnvkweWofg",
        "outputId": "dc4e187b-3201-4905-8f37-f90077398316"
      },
      "source": [
        "y_test_new = []\n",
        "for i in range(60,120):\n",
        "  y_test_new.append(y_100[i])\n",
        "\n",
        "print(y_test_new)"
      ],
      "execution_count": null,
      "outputs": [
        {
          "output_type": "stream",
          "text": [
            "[0.7735951076202993, 0.6032830636759519, -0.9130619635140027, 0.5905575488463404, 0.9619446500515608, 0.6942503047758435, -1.0651721465776378, 0.6192319990938229, -0.9419060598006531, 0.5729725828223022, -0.07446176836201303, 0.20859741592906172, -0.03155603088493178, -0.7356224004599248, -0.9574913456675364, 0.17526273745982385, 0.8917501582297436, 0.6275619156612132, 0.9271150941826616, 0.6843144709349167, 0.7936347756294142, 0.6031044666134473, 0.4387925646246764, -1.0890064636767183, -0.2575370716470191, 1.1849175952448265, -0.0276749694929182, 0.5385726322758195, -0.56635652457539, -0.32433119750173933, 0.8683011400443121, -0.7461078772743951, 0.7574823019962218, -0.8800380163722651, 1.005141073079758, 0.9838395888835385, -0.5161505474085675, 0.30459065856090073, -0.8668044886376918, 0.06969720371641233, -0.7105857065072756, 0.8573325151307747, -1.1227244499223796, -0.13840810347307816, 0.8826569720632196, -0.2660954946751808, -0.5879768826160301, -0.51328425201474, 1.1780252650116723, -0.1444930669077256, 0.5128993253049946, -0.7314688051792231, -1.036162951411648, 1.1469159190230398, -0.947528617979344, 0.6856498379445224, -0.5847525914557171, -0.5042476347867632, -0.6151502519983489, -0.8432935051642889]\n"
          ],
          "name": "stdout"
        }
      ]
    },
    {
      "cell_type": "code",
      "metadata": {
        "colab": {
          "base_uri": "https://localhost:8080/"
        },
        "id": "EWKf2kGEaK6h",
        "outputId": "ef98903a-6a8f-4296-83bb-7ad1227568f4"
      },
      "source": [
        "x_train_new = np.asarray(x_train_new)\n",
        "print(type(x_train_new))\n",
        "y_train_new = np.asarray(y_train_new)\n",
        "print(type(y_train_new))\n",
        "x_test_new = np.asarray(x_test_new)\n",
        "print(type(x_test_new))\n",
        "y_test_new =np.asarray(y_test_new)\n",
        "print(type(y_test_new))"
      ],
      "execution_count": null,
      "outputs": [
        {
          "output_type": "stream",
          "text": [
            "<class 'numpy.ndarray'>\n",
            "<class 'numpy.ndarray'>\n",
            "<class 'numpy.ndarray'>\n",
            "<class 'numpy.ndarray'>\n"
          ],
          "name": "stdout"
        }
      ]
    },
    {
      "cell_type": "code",
      "metadata": {
        "id": "xTQxegQaZ2vA"
      },
      "source": [
        "np.random.seed(0)\n",
        "x_train_new_axis = x_train_new[:,np.newaxis]\n",
        "x_test_new_axis= x_test_new[:, np.newaxis]\n",
        "y_train_new_axis = y_train_new[:,np.newaxis]\n",
        "y_test_new_axis= y_test_new[:, np.newaxis]"
      ],
      "execution_count": null,
      "outputs": []
    },
    {
      "cell_type": "code",
      "metadata": {
        "id": "kTbYk9xSvkIW"
      },
      "source": [
        "train_data_error =[]\n",
        "test_data_error = []\n",
        "lambdas = [1, 1/10, 1/100, 1/1000, 1/10000, 1/100000 ]\n",
        "def reg_ridge(alpha):\n",
        "    polynomial_features= PolynomialFeatures(degree=9)\n",
        "    x_transformed =  polynomial_features.fit_transform(x_train_new_axis)\n",
        "    poly_linear_model = Ridge(alpha = alpha)\n",
        "    poly_linear_model.fit(x_transformed, y_train_new)\n",
        "    return poly_linear_model\n",
        "\n",
        "def plotshow(alpha): \n",
        "    model = reg_ridge(alpha)\n",
        "    xx = np.linspace(0, 1, 120)\n",
        "    x_transformed =polynomial_features.fit_transform(xx.reshape(120,1))\n",
        "    y_prediction = model.predict(x_transformed)   \n",
        "    plt.plot(xx, y_prediction,label=alpha)\n",
        "    plt.scatter(x_train_new_axis, y_train_new_axis)\n",
        "    plt.scatter(xta, yta, color = 'red')\n",
        "    plt.legend()"
      ],
      "execution_count": null,
      "outputs": []
    },
    {
      "cell_type": "code",
      "metadata": {
        "colab": {
          "base_uri": "https://localhost:8080/",
          "height": 265
        },
        "id": "XX7wOab3v_Bf",
        "outputId": "3eeb952d-6605-4f69-d635-e309476856dd"
      },
      "source": [
        "plotshow(1)"
      ],
      "execution_count": null,
      "outputs": [
        {
          "output_type": "display_data",
          "data": {
            "image/png": "[encoded data removed]",
            "text/plain": [
              "<Figure size 432x288 with 1 Axes>"
            ]
          },
          "metadata": {
            "tags": [],
            "needs_background": "light"
          }
        }
      ]
    },
    {
      "cell_type": "code",
      "metadata": {
        "colab": {
          "base_uri": "https://localhost:8080/",
          "height": 265
        },
        "id": "JABzM1iJyI0L",
        "outputId": "42bcbc6a-e0fc-47f2-870a-f3e48c1f609b"
      },
      "source": [
        "lambdas = [1, 1/10, 1/100, 1/1000, 1/10000, 1/100000 ]\n",
        "for i in range(len(lambdas)):\n",
        "  alpha = lambdas[i]\n",
        "  plotshow(alpha)"
      ],
      "execution_count": null,
      "outputs": [
        {
          "output_type": "display_data",
          "data": {
            "image/png": "[encoded data removed]",
            "text/plain": [
              "<Figure size 432x288 with 1 Axes>"
            ]
          },
          "metadata": {
            "tags": [],
            "needs_background": "light"
          }
        }
      ]
    },
    {
      "cell_type": "code",
      "metadata": {
        "colab": {
          "base_uri": "https://localhost:8080/",
          "height": 265
        },
        "id": "h1SFRmLOydhV",
        "outputId": "0fe2c407-90e5-4048-8b89-d7a2567754c0"
      },
      "source": [
        "plotshow(1/10)"
      ],
      "execution_count": null,
      "outputs": [
        {
          "output_type": "display_data",
          "data": {
            "image/png": "[encoded data removed]",
            "text/plain": [
              "<Figure size 432x288 with 1 Axes>"
            ]
          },
          "metadata": {
            "tags": [],
            "needs_background": "light"
          }
        }
      ]
    },
    {
      "cell_type": "code",
      "metadata": {
        "colab": {
          "base_uri": "https://localhost:8080/",
          "height": 265
        },
        "id": "7YhwyPQayprb",
        "outputId": "4fd313f9-c970-4f9c-efef-6543bfa0c114"
      },
      "source": [
        "plotshow(1/100)"
      ],
      "execution_count": null,
      "outputs": [
        {
          "output_type": "display_data",
          "data": {
            "image/png": "[encoded data removed]",
            "text/plain": [
              "<Figure size 432x288 with 1 Axes>"
            ]
          },
          "metadata": {
            "tags": [],
            "needs_background": "light"
          }
        }
      ]
    },
    {
      "cell_type": "code",
      "metadata": {
        "colab": {
          "base_uri": "https://localhost:8080/",
          "height": 265
        },
        "id": "JOSIotZ0ysd3",
        "outputId": "3f3bd832-8c23-416a-c26f-dd050e5878e5"
      },
      "source": [
        "plotshow(1/1000)"
      ],
      "execution_count": null,
      "outputs": [
        {
          "output_type": "display_data",
          "data": {
            "image/png": "[encoded data removed]",
            "text/plain": [
              "<Figure size 432x288 with 1 Axes>"
            ]
          },
          "metadata": {
            "tags": [],
            "needs_background": "light"
          }
        }
      ]
    },
    {
      "cell_type": "code",
      "metadata": {
        "colab": {
          "base_uri": "https://localhost:8080/",
          "height": 265
        },
        "id": "wYodWuaNzQkx",
        "outputId": "256823c7-1ff3-44ad-922d-7508aa82a49e"
      },
      "source": [
        "plotshow(1/10000)"
      ],
      "execution_count": null,
      "outputs": [
        {
          "output_type": "display_data",
          "data": {
            "image/png": "[encoded data removed]",
            "text/plain": [
              "<Figure size 432x288 with 1 Axes>"
            ]
          },
          "metadata": {
            "tags": [],
            "needs_background": "light"
          }
        }
      ]
    },
    {
      "cell_type": "code",
      "metadata": {
        "colab": {
          "base_uri": "https://localhost:8080/",
          "height": 265
        },
        "id": "AYlAWKHYzVAn",
        "outputId": "ddaf4395-abe9-4161-81be-ca1884a142fd"
      },
      "source": [
        "plotshow(1/100000)"
      ],
      "execution_count": null,
      "outputs": [
        {
          "output_type": "display_data",
          "data": {
            "image/png": "[encoded data removed]",
            "text/plain": [
              "<Figure size 432x288 with 1 Axes>"
            ]
          },
          "metadata": {
            "tags": [],
            "needs_background": "light"
          }
        }
      ]
    },
    {
      "cell_type": "code",
      "metadata": {
        "id": "FyCSH4iw2AzN"
      },
      "source": [
        "train_data_error =[]\n",
        "test_data_error = []\n",
        "\n",
        "def reg_ridge(alpha):\n",
        "    polynomial_features= PolynomialFeatures(degree=9)\n",
        "    x_transformed =  polynomial_features.fit_transform(x_train_new_axis)\n",
        "    poly_linear_model = Ridge(alpha = alpha)\n",
        "    poly_linear_model.fit(x_transformed, y_train_new)\n",
        "    return poly_linear_model\n",
        "\n",
        "def plotshow(alpha): \n",
        "    model = reg_ridge(alpha)\n",
        "    xx = np.linspace(0, 1, 120)\n",
        "    x_transformed =polynomial_features.fit_transform(xx.reshape(120,1))\n",
        "    y_prediction = model.predict(x_transformed)\n",
        "    x_test_transfor = polynomial_features.fit_transform(x_test_new_axis)\n",
        "    y_pred_test = model.predict(x_test_transfor)\n",
        "\n",
        "    x_train_transfor = polynomial_features.fit_transform(x_train_new_axis)\n",
        "    y_pred_train =model.predict(x_train_transfor)    \n",
        "    \n",
        "    train_loss = np.sqrt(mean_squared_error(y_train_new,y_pred_train))\n",
        "    train_data_error.append(train_loss)\n",
        "\n",
        "    test_loss = np.sqrt(mean_squared_error(y_test_new,y_pred_test))\n",
        "    test_data_error.append(test_loss)\n",
        "    "
      ],
      "execution_count": null,
      "outputs": []
    },
    {
      "cell_type": "code",
      "metadata": {
        "id": "rgylozMp2s6w"
      },
      "source": [
        "lambdas = [1, 1/10, 1/100, 1/1000, 1/10000, 1/100000 ]\n",
        "for i in range(len(lambdas)):\n",
        "  alpha = lambdas[i]\n",
        "  plotshow(alpha)"
      ],
      "execution_count": null,
      "outputs": []
    },
    {
      "cell_type": "code",
      "metadata": {
        "id": "Wu9ntuQF5hoe"
      },
      "source": [
        "lnlambda= [ np.log(1), np.log(1/10), np.log(1/100), np.log(1/1000), np.log(1/10000), np.log(1/100000) ]"
      ],
      "execution_count": null,
      "outputs": []
    },
    {
      "cell_type": "code",
      "metadata": {
        "colab": {
          "base_uri": "https://localhost:8080/",
          "height": 265
        },
        "id": "xHwIV7cb23oc",
        "outputId": "c7829fff-272f-41a5-af99-aa77f5e12981"
      },
      "source": [
        "plt.plot(lnlambda ,train_data_error, label = 'Train error', color ='m', marker = 'o')    \n",
        "plt.plot(lnlambda, test_data_error, label = 'Test error', color ='b', marker = 'o')\n",
        "plt.ylabel(\"ERMS\") \n",
        "plt.legend()\n",
        "plt.show()"
      ],
      "execution_count": null,
      "outputs": [
        {
          "output_type": "display_data",
          "data": {
            "image/png": "[encoded data removed]",
            "text/plain": [
              "<Figure size 432x288 with 1 Axes>"
            ]
          },
          "metadata": {
            "tags": [],
            "needs_background": "light"
          }
        }
      ]
    },
    {
      "cell_type": "code",
      "metadata": {
        "colab": {
          "base_uri": "https://localhost:8080/"
        },
        "id": "5v2LX6K_zSBz",
        "outputId": "d15f2e68-b52c-4f85-8671-184e2119c23a"
      },
      "source": [
        "reg = Ridge(alpha= 1)\n",
        "reg.fit(x_train_new_axis, y_train_new_axis)\n",
        "pred = reg.predict(x_test_new_axis)\n",
        "print(\" R2 score :\", r2_score(y_test_new_axis, pred))\n",
        "print(\"RMSE :\", np.sqrt(mean_squared_error(y_test_new_axis,pred)))"
      ],
      "execution_count": null,
      "outputs": [
        {
          "output_type": "stream",
          "text": [
            " R2 score : 0.5641205374691174\n",
            "RMSE : 0.48354158634940686\n"
          ],
          "name": "stdout"
        }
      ]
    },
    {
      "cell_type": "code",
      "metadata": {
        "colab": {
          "base_uri": "https://localhost:8080/"
        },
        "id": "onx-o72g0R4u",
        "outputId": "60feb403-d763-495c-9309-c7eb57f83bdb"
      },
      "source": [
        "reg = Ridge(alpha= 0.1)\n",
        "reg.fit(x_train_new_axis, y_train_new_axis)\n",
        "pred = reg.predict(x_test_new_axis)\n",
        "print(\" R2 score :\", r2_score(y_test_new_axis, pred))\n",
        "print(\"RMSE :\", np.sqrt(mean_squared_error(y_test_new_axis,pred)))"
      ],
      "execution_count": null,
      "outputs": [
        {
          "output_type": "stream",
          "text": [
            " R2 score : 0.5803213853271677\n",
            "RMSE : 0.4744703163451663\n"
          ],
          "name": "stdout"
        }
      ]
    },
    {
      "cell_type": "code",
      "metadata": {
        "colab": {
          "base_uri": "https://localhost:8080/"
        },
        "id": "InWXiYsF02ns",
        "outputId": "4281a684-7dc3-4d1e-ab71-ab2d87e8db27"
      },
      "source": [
        "reg = Ridge(alpha= 0.01)\n",
        "reg.fit(x_train_new_axis, y_train_new_axis)\n",
        "pred = reg.predict(x_test_new_axis)\n",
        "print(\" R2 score :\", r2_score(y_test_new_axis, pred))\n",
        "print(\"RMSE :\", np.sqrt(mean_squared_error(y_test_new_axis,pred)))"
      ],
      "execution_count": null,
      "outputs": [
        {
          "output_type": "stream",
          "text": [
            " R2 score : 0.5801178493652608\n",
            "RMSE : 0.47458535683429115\n"
          ],
          "name": "stdout"
        }
      ]
    },
    {
      "cell_type": "code",
      "metadata": {
        "colab": {
          "base_uri": "https://localhost:8080/"
        },
        "id": "TTi8ML0o045k",
        "outputId": "797b5e7d-d24a-441a-84fb-4feffa096fb6"
      },
      "source": [
        "reg = Ridge(alpha= 0.001)\n",
        "reg.fit(x_train_new_axis, y_train_new_axis)\n",
        "pred = reg.predict(x_test_new_axis)\n",
        "print(\" R2 score :\", r2_score(y_test_new_axis, pred))\n",
        "print(\"RMSE :\", np.sqrt(mean_squared_error(y_test_new_axis,pred)))"
      ],
      "execution_count": null,
      "outputs": [
        {
          "output_type": "stream",
          "text": [
            " R2 score : 0.5800704043819439\n",
            "RMSE : 0.4746121691889787\n"
          ],
          "name": "stdout"
        }
      ]
    },
    {
      "cell_type": "code",
      "metadata": {
        "colab": {
          "base_uri": "https://localhost:8080/"
        },
        "id": "O0cmKADQ06qm",
        "outputId": "10cbb922-2709-493a-dfe1-15425baaf47b"
      },
      "source": [
        "reg = Ridge(alpha= 0.0001)\n",
        "reg.fit(x_train_new_axis, y_train_new_axis)\n",
        "pred = reg.predict(x_test_new_axis)\n",
        "print(\" R2 score :\", r2_score(y_test_new_axis, pred))\n",
        "print(\"RMSE :\", np.sqrt(mean_squared_error(y_test_new_axis,pred)))"
      ],
      "execution_count": null,
      "outputs": [
        {
          "output_type": "stream",
          "text": [
            " R2 score : 0.5800653770871287\n",
            "RMSE : 0.47461501015110796\n"
          ],
          "name": "stdout"
        }
      ]
    },
    {
      "cell_type": "code",
      "metadata": {
        "colab": {
          "base_uri": "https://localhost:8080/"
        },
        "id": "rYls8-Xr08-G",
        "outputId": "08e7ace1-0372-4a59-cccf-d8d632018c42"
      },
      "source": [
        "reg = Ridge(alpha= 0.00001)\n",
        "reg.fit(x_train_new_axis, y_train_new_axis)\n",
        "pred = reg.predict(x_test_new_axis)\n",
        "print(\" R2 score :\", r2_score(y_test_new_axis, pred))\n",
        "print(\"RMSE :\", np.sqrt(mean_squared_error(y_test_new_axis,pred)))"
      ],
      "execution_count": null,
      "outputs": [
        {
          "output_type": "stream",
          "text": [
            " R2 score : 0.5800648715174064\n",
            "RMSE : 0.4746152958514213\n"
          ],
          "name": "stdout"
        }
      ]
    },
    {
      "cell_type": "markdown",
      "metadata": {
        "id": "JDahepvB6oLx"
      },
      "source": [
        "The Best fit for the model is when the lambda value is 0.001"
      ]
    },
    {
      "cell_type": "code",
      "metadata": {
        "colab": {
          "base_uri": "https://localhost:8080/"
        },
        "id": "JJMj8yYf_YDk",
        "outputId": "62520e2e-3040-4d35-ea7d-b28144183036"
      },
      "source": [
        "reg = Ridge(alpha= 0.00001)\n",
        "reg.fit(xta, yta)\n",
        "pred = reg.predict(xtest)\n",
        "print(\" R2 score :\", r2_score(ytest, pred))\n",
        "print(\"RMSE :\", np.sqrt(mean_squared_error(ytest,pred)))"
      ],
      "execution_count": null,
      "outputs": [
        {
          "output_type": "stream",
          "text": [
            " R2 score : 0.40674125963107155\n",
            "RMSE : 0.43671851031308273\n"
          ],
          "name": "stdout"
        }
      ]
    },
    {
      "cell_type": "code",
      "metadata": {
        "colab": {
          "base_uri": "https://localhost:8080/"
        },
        "id": "2LQLgnRA_gRb",
        "outputId": "ce6fa047-7d56-4cb8-ae5b-880abbc1e135"
      },
      "source": [
        "reg = Ridge(alpha= 0.0001)\n",
        "reg.fit(xta, yta)\n",
        "pred = reg.predict(xtest)\n",
        "print(\" R2 score :\", r2_score(ytest, pred))\n",
        "print(\"RMSE :\", np.sqrt(mean_squared_error(ytest,pred)))"
      ],
      "execution_count": null,
      "outputs": [
        {
          "output_type": "stream",
          "text": [
            " R2 score : 0.4070769611666728\n",
            "RMSE : 0.4365949320071861\n"
          ],
          "name": "stdout"
        }
      ]
    },
    {
      "cell_type": "code",
      "metadata": {
        "colab": {
          "base_uri": "https://localhost:8080/"
        },
        "id": "g6CHkKbh_iwY",
        "outputId": "fcf591bf-a889-41fe-c94a-90b0fee49c8c"
      },
      "source": [
        "reg = Ridge(alpha= 0.001)\n",
        "reg.fit(xta, yta)\n",
        "pred = reg.predict(xtest)\n",
        "print(\" R2 score :\", r2_score(ytest, pred))\n",
        "print(\"RMSE :\", np.sqrt(mean_squared_error(ytest,pred)))"
      ],
      "execution_count": null,
      "outputs": [
        {
          "output_type": "stream",
          "text": [
            " R2 score : 0.41041083964558356\n",
            "RMSE : 0.4353657621215532\n"
          ],
          "name": "stdout"
        }
      ]
    },
    {
      "cell_type": "code",
      "metadata": {
        "colab": {
          "base_uri": "https://localhost:8080/"
        },
        "id": "YCVpbJw7_nof",
        "outputId": "3af00452-140a-4017-de6a-3c791eed46c2"
      },
      "source": [
        "reg = Ridge(alpha= 0.01)\n",
        "reg.fit(xta, yta)\n",
        "pred = reg.predict(xtest)\n",
        "print(\" R2 score :\", r2_score(ytest, pred))\n",
        "print(\"RMSE :\", np.sqrt(mean_squared_error(ytest,pred)))"
      ],
      "execution_count": null,
      "outputs": [
        {
          "output_type": "stream",
          "text": [
            " R2 score : 0.4415391481528067\n",
            "RMSE : 0.4237170055738992\n"
          ],
          "name": "stdout"
        }
      ]
    },
    {
      "cell_type": "code",
      "metadata": {
        "colab": {
          "base_uri": "https://localhost:8080/"
        },
        "id": "k7XJRNab_qF_",
        "outputId": "dd7078d2-2d52-4b32-c3d2-7c73deea487d"
      },
      "source": [
        "reg = Ridge(alpha= 0.1)\n",
        "reg.fit(xta, yta)\n",
        "pred = reg.predict(xtest)\n",
        "print(\" R2 score :\", r2_score(ytest, pred))\n",
        "print(\"RMSE :\", np.sqrt(mean_squared_error(ytest,pred)))"
      ],
      "execution_count": null,
      "outputs": [
        {
          "output_type": "stream",
          "text": [
            " R2 score : 0.604821198588132\n",
            "RMSE : 0.3564317205890505\n"
          ],
          "name": "stdout"
        }
      ]
    },
    {
      "cell_type": "code",
      "metadata": {
        "colab": {
          "base_uri": "https://localhost:8080/"
        },
        "id": "doYuhWYD_sw4",
        "outputId": "ad8c3d31-5c50-4eb9-ef97-99ab947e811d"
      },
      "source": [
        "reg = Ridge(alpha = 1)\n",
        "reg.fit(xta, yta)\n",
        "pred = reg.predict(xtest)\n",
        "print(\" R2 score :\", r2_score(ytest, pred))\n",
        "print(\"RMSE :\", np.sqrt(mean_squared_error(ytest,pred)))"
      ],
      "execution_count": null,
      "outputs": [
        {
          "output_type": "stream",
          "text": [
            " R2 score : 0.3789693635035779\n",
            "RMSE : 0.4468235346925561\n"
          ],
          "name": "stdout"
        }
      ]
    },
    {
      "cell_type": "markdown",
      "metadata": {
        "id": "cr2A99Qs_0na"
      },
      "source": [
        "The best fit in 20 values data set is when lambda is 0.1"
      ]
    },
    {
      "cell_type": "markdown",
      "metadata": {
        "id": "ZNUevt7k_0cn"
      },
      "source": [
        "The Best fit 100 values dataset is the model when the lambda value is 0.001"
      ]
    }
  ]
}