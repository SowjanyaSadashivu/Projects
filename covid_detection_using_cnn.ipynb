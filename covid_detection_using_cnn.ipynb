{
  "nbformat": 4,
  "nbformat_minor": 0,
  "metadata": {
    "colab": {
      "name": "covid_detection_using_cnn.ipynb",
      "provenance": [],
      "collapsed_sections": [],
      "mount_file_id": "1sseuWuBjtW9s4YWBFCWGb0PY3wuem_PJ",
      "authorship_tag": "ABX9TyOCP4nBww5xMUFSeOnq/Osp",
      "include_colab_link": true
    },
    "kernelspec": {
      "name": "python3",
      "display_name": "Python 3"
    },
    "language_info": {
      "name": "python"
    },
    "accelerator": "GPU"
  },
  "cells": [
    {
      "cell_type": "markdown",
      "metadata": {
        "id": "view-in-github",
        "colab_type": "text"
      },
      "source": [
        "<a href=\"https://colab.research.google.com/github/SowjanyaSadashivu/Projects/blob/main/covid_detection_using_cnn.ipynb\" target=\"_parent\"><img src=\"https://colab.research.google.com/assets/colab-badge.svg\" alt=\"Open In Colab\"/></a>"
      ]
    },
    {
      "cell_type": "code",
      "metadata": {
        "id": "fV_iQO9red1k"
      },
      "source": [
        "import io \n",
        "import os\n",
        "import random\n",
        "import numpy as np\n",
        "import pandas as pd\n",
        "import shutil\n",
        "import torch\n",
        "import torchvision\n",
        "import keras\n",
        "import seaborn as sns\n",
        "from keras.layers import *\n",
        "from keras.models import *\n",
        "from keras.preprocessing import image\n",
        "from torchvision.utils import make_grid\n",
        "from keras.preprocessing.image import ImageDataGenerator\n",
        "from zipfile import ZipFile\n",
        "from google.colab import files\n",
        "from google.colab import drive\n",
        "from sklearn.metrics import confusion_matrix\n"
      ],
      "execution_count": null,
      "outputs": []
    },
    {
      "cell_type": "code",
      "metadata": {
        "id": "AGSXY7VA2_hJ",
        "colab": {
          "base_uri": "https://localhost:8080/"
        },
        "outputId": "e900d639-149c-45f6-9751-bbac9bd1454c"
      },
      "source": [
        "!wget https://www.dropbox.com/s/nbwhrahfe0pdthd/Covid_dataset.zip?dl=0"
      ],
      "execution_count": null,
      "outputs": [
        {
          "output_type": "stream",
          "text": [
            "--2021-05-04 22:19:54--  https://www.dropbox.com/s/nbwhrahfe0pdthd/Covid_dataset.zip?dl=0\n",
            "Resolving www.dropbox.com (www.dropbox.com)... 162.125.6.18, 2620:100:6019:18::a27d:412\n",
            "Connecting to www.dropbox.com (www.dropbox.com)|162.125.6.18|:443... connected.\n",
            "HTTP request sent, awaiting response... 301 Moved Permanently\n",
            "Location: /s/raw/nbwhrahfe0pdthd/Covid_dataset.zip [following]\n",
            "--2021-05-04 22:19:55--  https://www.dropbox.com/s/raw/nbwhrahfe0pdthd/Covid_dataset.zip\n",
            "Reusing existing connection to www.dropbox.com:443.\n",
            "HTTP request sent, awaiting response... 302 Found\n",
            "Location: https://uc4c94f3427068906c5dd82e0708.dl.dropboxusercontent.com/cd/0/inline/BN5SKfNQhwR---UrXrho0I2c6Qbyab2SRKSIfHnaFOYoCRyoXzfgXUaXlND0EhGc3Argspzmw3-GT4ZDQnojD9qTnA11kY9OTa7jN1oGii0NY2KUKGifwRGPGL9ZvW1KO19e7fsmgyQeqCsRwTzgi2cy/file# [following]\n",
            "--2021-05-04 22:19:55--  https://uc4c94f3427068906c5dd82e0708.dl.dropboxusercontent.com/cd/0/inline/BN5SKfNQhwR---UrXrho0I2c6Qbyab2SRKSIfHnaFOYoCRyoXzfgXUaXlND0EhGc3Argspzmw3-GT4ZDQnojD9qTnA11kY9OTa7jN1oGii0NY2KUKGifwRGPGL9ZvW1KO19e7fsmgyQeqCsRwTzgi2cy/file\n",
            "Resolving uc4c94f3427068906c5dd82e0708.dl.dropboxusercontent.com (uc4c94f3427068906c5dd82e0708.dl.dropboxusercontent.com)... 162.125.6.15, 2620:100:6019:15::a27d:40f\n",
            "Connecting to uc4c94f3427068906c5dd82e0708.dl.dropboxusercontent.com (uc4c94f3427068906c5dd82e0708.dl.dropboxusercontent.com)|162.125.6.15|:443... connected.\n",
            "HTTP request sent, awaiting response... 302 Found\n",
            "Location: /cd/0/inline2/BN6cAoFt1Xg7gskMhTAXf2tcALpyH3NNPXZofIXgP9TsxgyTU9dIA1yCTciHsc7f78ulfQ880YBroO0E3vQOs0Tb6hBQVxMPbNR3O0xcinPd_FF7hVk-z_G--53dOI32d9va7Cp9vrvVS1_q3cIve91XkTqswHt72YlwDcKJU9vegOfNjL1dJR75J2DDeirpauTG6yRho_Nf0m69cHRxJ7XjBXcdv2v5DbVOQua5Zoh8tOLGu__tXrTXdf1WQL2VQ2Vtt47eJZSRhRA2BuVziuwTK6zssbO3jfDvp0l_eSL6ilNQQqtpLGwEkKpbspGamKwf7EcrQtKhTjv4ruAHonLNsZubLF_8WjJeplpMvr1UqEv2-m7eL7Je3h5qTsLakjY/file [following]\n",
            "--2021-05-04 22:19:55--  https://uc4c94f3427068906c5dd82e0708.dl.dropboxusercontent.com/cd/0/inline2/BN6cAoFt1Xg7gskMhTAXf2tcALpyH3NNPXZofIXgP9TsxgyTU9dIA1yCTciHsc7f78ulfQ880YBroO0E3vQOs0Tb6hBQVxMPbNR3O0xcinPd_FF7hVk-z_G--53dOI32d9va7Cp9vrvVS1_q3cIve91XkTqswHt72YlwDcKJU9vegOfNjL1dJR75J2DDeirpauTG6yRho_Nf0m69cHRxJ7XjBXcdv2v5DbVOQua5Zoh8tOLGu__tXrTXdf1WQL2VQ2Vtt47eJZSRhRA2BuVziuwTK6zssbO3jfDvp0l_eSL6ilNQQqtpLGwEkKpbspGamKwf7EcrQtKhTjv4ruAHonLNsZubLF_8WjJeplpMvr1UqEv2-m7eL7Je3h5qTsLakjY/file\n",
            "Reusing existing connection to uc4c94f3427068906c5dd82e0708.dl.dropboxusercontent.com:443.\n",
            "HTTP request sent, awaiting response... 200 OK\n",
            "Length: 188728359 (180M) [application/zip]\n",
            "Saving to: ‘Covid_dataset.zip?dl=0’\n",
            "\n",
            "Covid_dataset.zip?d 100%[===================>] 179.99M   116MB/s    in 1.6s    \n",
            "\n",
            "2021-05-04 22:19:57 (116 MB/s) - ‘Covid_dataset.zip?dl=0’ saved [188728359/188728359]\n",
            "\n"
          ],
          "name": "stdout"
        }
      ]
    },
    {
      "cell_type": "code",
      "metadata": {
        "id": "K8t050zh3K3B"
      },
      "source": [
        "!unzip Covid_dataset.zip\\?dl\\=0"
      ],
      "execution_count": null,
      "outputs": []
    },
    {
      "cell_type": "code",
      "metadata": {
        "id": "GCWimvD19RAJ"
      },
      "source": [
        "train_path = '/content/Covid_dataset/train'\n",
        "val_path = '/content/Covid_dataset/val'"
      ],
      "execution_count": null,
      "outputs": []
    },
    {
      "cell_type": "code",
      "metadata": {
        "id": "k8_XN3Kn-Zbd"
      },
      "source": [
        "model = Sequential()\n",
        "model.add(Conv2D(32, kernel_size=(3,3), activation='relu', input_shape = (224,224,3)))\n",
        "model.add(Conv2D(64,(3,3), activation='relu'))\n",
        "model.add(MaxPool2D(pool_size=(2,2)))\n",
        "model.add(Dropout(0.20))\n",
        "\n",
        "model.add(Conv2D(64,(3,3), activation='relu'))\n",
        "model.add(MaxPool2D(pool_size=(2,2)))\n",
        "model.add(Dropout(0.20))\n",
        "\n",
        "model.add(Conv2D(128,(3,3), activation='relu'))\n",
        "model.add(MaxPool2D(pool_size=(2,2)))\n",
        "model.add(Dropout(0.20))\n",
        "\n",
        "model.add(Conv2D(256,(3,3), activation='relu'))\n",
        "model.add(MaxPool2D(pool_size=(2,2)))\n",
        "model.add(Dropout(0.20))\n",
        "\n",
        "model.add(Flatten())\n",
        "model.add(Dense(64,activation='relu'))\n",
        "model.add(Dropout(0.5))\n",
        "model.add(Dense(1, activation='sigmoid'))\n",
        "\n",
        "model.compile(loss = keras.losses.binary_crossentropy, optimizer = 'adam', metrics = ['accuracy'])\n"
      ],
      "execution_count": null,
      "outputs": []
    },
    {
      "cell_type": "code",
      "metadata": {
        "id": "U1YXjBti4Qnc",
        "colab": {
          "base_uri": "https://localhost:8080/"
        },
        "outputId": "6441a5a8-191b-40e1-bc7e-413294b903d5"
      },
      "source": [
        "model.summary()"
      ],
      "execution_count": null,
      "outputs": [
        {
          "output_type": "stream",
          "text": [
            "Model: \"sequential_2\"\n",
            "_________________________________________________________________\n",
            "Layer (type)                 Output Shape              Param #   \n",
            "=================================================================\n",
            "conv2d_10 (Conv2D)           (None, 222, 222, 32)      896       \n",
            "_________________________________________________________________\n",
            "conv2d_11 (Conv2D)           (None, 220, 220, 64)      18496     \n",
            "_________________________________________________________________\n",
            "max_pooling2d_8 (MaxPooling2 (None, 110, 110, 64)      0         \n",
            "_________________________________________________________________\n",
            "dropout_10 (Dropout)         (None, 110, 110, 64)      0         \n",
            "_________________________________________________________________\n",
            "conv2d_12 (Conv2D)           (None, 108, 108, 64)      36928     \n",
            "_________________________________________________________________\n",
            "max_pooling2d_9 (MaxPooling2 (None, 54, 54, 64)        0         \n",
            "_________________________________________________________________\n",
            "dropout_11 (Dropout)         (None, 54, 54, 64)        0         \n",
            "_________________________________________________________________\n",
            "conv2d_13 (Conv2D)           (None, 52, 52, 128)       73856     \n",
            "_________________________________________________________________\n",
            "max_pooling2d_10 (MaxPooling (None, 26, 26, 128)       0         \n",
            "_________________________________________________________________\n",
            "dropout_12 (Dropout)         (None, 26, 26, 128)       0         \n",
            "_________________________________________________________________\n",
            "conv2d_14 (Conv2D)           (None, 24, 24, 256)       295168    \n",
            "_________________________________________________________________\n",
            "max_pooling2d_11 (MaxPooling (None, 12, 12, 256)       0         \n",
            "_________________________________________________________________\n",
            "dropout_13 (Dropout)         (None, 12, 12, 256)       0         \n",
            "_________________________________________________________________\n",
            "flatten_2 (Flatten)          (None, 36864)             0         \n",
            "_________________________________________________________________\n",
            "dense_4 (Dense)              (None, 64)                2359360   \n",
            "_________________________________________________________________\n",
            "dropout_14 (Dropout)         (None, 64)                0         \n",
            "_________________________________________________________________\n",
            "dense_5 (Dense)              (None, 1)                 65        \n",
            "=================================================================\n",
            "Total params: 2,784,769\n",
            "Trainable params: 2,784,769\n",
            "Non-trainable params: 0\n",
            "_________________________________________________________________\n"
          ],
          "name": "stdout"
        }
      ]
    },
    {
      "cell_type": "code",
      "metadata": {
        "id": "EEoc8Q0J4Xtq"
      },
      "source": [
        "train_images = image.ImageDataGenerator(\n",
        "    rescale = 1./255,\n",
        "    shear_range = 0.2,\n",
        "    zoom_range = 0.2,\n",
        "    horizontal_flip = True,\n",
        ")\n",
        "\n",
        "test_images = image.ImageDataGenerator(\n",
        "    rescale = 1./255\n",
        ")"
      ],
      "execution_count": null,
      "outputs": []
    },
    {
      "cell_type": "code",
      "metadata": {
        "id": "PuDr1Auo8tlL"
      },
      "source": [
        "train_image_dataset = train_images.flow_from_directory(\n",
        "    '/content/drive/MyDrive/Datasets/Covid_datasets/train',\n",
        "    target_size = (224, 224),\n",
        "    batch_size = 25,\n",
        "    class_mode = 'binary'    \n",
        ")"
      ],
      "execution_count": null,
      "outputs": []
    },
    {
      "cell_type": "code",
      "metadata": {
        "id": "tKjg2rE_9eIh"
      },
      "source": [
        "test_images_dataset = test_images.flow_from_directory(\n",
        "    '/content/drive/MyDrive/Datasets/Covid_datasets/val',\n",
        "     target_size = (224, 224),\n",
        "     batch_size = 25,\n",
        "     class_mode = 'binary' \n",
        ")"
      ],
      "execution_count": null,
      "outputs": []
    },
    {
      "cell_type": "code",
      "metadata": {
        "id": "T-6wOM6V-4Kf",
        "colab": {
          "base_uri": "https://localhost:8080/"
        },
        "outputId": "a3ade8dd-f0e6-4b7e-eda0-43f08ef45d2c"
      },
      "source": [
        "hist = model.fit_generator(\n",
        "    train_image_dataset,\n",
        "    steps_per_epoch = 5,\n",
        "    epochs = 15,\n",
        "    validation_data = test_images_dataset,\n",
        "    validation_steps = 3\n",
        ")"
      ],
      "execution_count": null,
      "outputs": [
        {
          "output_type": "stream",
          "text": [
            "/usr/local/lib/python3.7/dist-packages/tensorflow/python/keras/engine/training.py:1844: UserWarning: `Model.fit_generator` is deprecated and will be removed in a future version. Please use `Model.fit`, which supports generators.\n",
            "  warnings.warn('`Model.fit_generator` is deprecated and '\n"
          ],
          "name": "stderr"
        },
        {
          "output_type": "stream",
          "text": [
            "Epoch 1/15\n",
            "5/5 [==============================] - 82s 11s/step - loss: 0.9853 - accuracy: 0.4608 - val_loss: 0.6933 - val_accuracy: 0.5067\n",
            "Epoch 2/15\n",
            "5/5 [==============================] - 21s 4s/step - loss: 0.6947 - accuracy: 0.5033 - val_loss: 0.6919 - val_accuracy: 0.5067\n",
            "Epoch 3/15\n",
            "5/5 [==============================] - 11s 2s/step - loss: 0.6871 - accuracy: 0.6044 - val_loss: 0.6886 - val_accuracy: 0.4933\n",
            "Epoch 4/15\n",
            "5/5 [==============================] - 12s 2s/step - loss: 0.6817 - accuracy: 0.5474 - val_loss: 0.6699 - val_accuracy: 0.9333\n",
            "Epoch 5/15\n",
            "5/5 [==============================] - 10s 2s/step - loss: 0.6446 - accuracy: 0.6678 - val_loss: 0.5725 - val_accuracy: 0.9467\n",
            "Epoch 6/15\n",
            "5/5 [==============================] - 7s 1s/step - loss: 0.5011 - accuracy: 0.7567 - val_loss: 0.2873 - val_accuracy: 0.9733\n",
            "Epoch 7/15\n",
            "5/5 [==============================] - 6s 1s/step - loss: 0.3869 - accuracy: 0.8322 - val_loss: 0.3431 - val_accuracy: 0.8133\n",
            "Epoch 8/15\n",
            "5/5 [==============================] - 6s 1s/step - loss: 0.3585 - accuracy: 0.8541 - val_loss: 0.2424 - val_accuracy: 0.9467\n",
            "Epoch 9/15\n",
            "5/5 [==============================] - 7s 1s/step - loss: 0.2607 - accuracy: 0.9148 - val_loss: 0.6711 - val_accuracy: 0.5867\n",
            "Epoch 10/15\n",
            "5/5 [==============================] - 6s 1s/step - loss: 0.3944 - accuracy: 0.8330 - val_loss: 0.3231 - val_accuracy: 0.8400\n",
            "Epoch 11/15\n",
            "5/5 [==============================] - 6s 1s/step - loss: 0.3685 - accuracy: 0.8643 - val_loss: 0.5559 - val_accuracy: 0.6000\n",
            "Epoch 12/15\n",
            "5/5 [==============================] - 7s 1s/step - loss: 0.4814 - accuracy: 0.7346 - val_loss: 0.3901 - val_accuracy: 0.9467\n",
            "Epoch 13/15\n",
            "5/5 [==============================] - 6s 1s/step - loss: 0.2520 - accuracy: 0.9511 - val_loss: 0.2721 - val_accuracy: 0.9333\n",
            "Epoch 14/15\n",
            "5/5 [==============================] - 6s 1s/step - loss: 0.3774 - accuracy: 0.8390 - val_loss: 0.3389 - val_accuracy: 0.9333\n",
            "Epoch 15/15\n",
            "5/5 [==============================] - 6s 1s/step - loss: 0.2587 - accuracy: 0.9107 - val_loss: 0.1412 - val_accuracy: 0.9600\n"
          ],
          "name": "stdout"
        }
      ]
    },
    {
      "cell_type": "code",
      "metadata": {
        "id": "ndt56oxC7mW-",
        "colab": {
          "base_uri": "https://localhost:8080/"
        },
        "outputId": "4706ee24-11a3-44e8-f68a-5ef6e55f6bef"
      },
      "source": [
        "model.save('Covid_cnn_model')"
      ],
      "execution_count": null,
      "outputs": [
        {
          "output_type": "stream",
          "text": [
            "INFO:tensorflow:Assets written to: Covid_cnn_model/assets\n"
          ],
          "name": "stdout"
        }
      ]
    },
    {
      "cell_type": "code",
      "metadata": {
        "id": "jRX-Y6wS9PVK"
      },
      "source": [
        "Model = load_model('/content/Covid_cnn_model')"
      ],
      "execution_count": null,
      "outputs": []
    },
    {
      "cell_type": "code",
      "metadata": {
        "id": "JojTLhZP_yRA",
        "colab": {
          "base_uri": "https://localhost:8080/"
        },
        "outputId": "1339e91f-b248-4bd4-a4f6-5127ff577ae4"
      },
      "source": [
        "train_image_result = Model.evaluate_generator(train_image_dataset)"
      ],
      "execution_count": null,
      "outputs": [
        {
          "output_type": "stream",
          "text": [
            "/usr/local/lib/python3.7/dist-packages/tensorflow/python/keras/engine/training.py:1877: UserWarning: `Model.evaluate_generator` is deprecated and will be removed in a future version. Please use `Model.evaluate`, which supports generators.\n",
            "  warnings.warn('`Model.evaluate_generator` is deprecated and '\n"
          ],
          "name": "stderr"
        }
      ]
    },
    {
      "cell_type": "code",
      "metadata": {
        "id": "TuQ5wTezRXkM",
        "colab": {
          "base_uri": "https://localhost:8080/"
        },
        "outputId": "55d14b43-3906-4efe-c358-231fcdb4b75f"
      },
      "source": [
        "print(\"The Loss on the train image set is: {:.3f}\".format(train_image_result[0]))\n",
        "print(\"The accuracy on the train image set is: {:.1f}%\".format(train_image_result[1]*100))"
      ],
      "execution_count": null,
      "outputs": [
        {
          "output_type": "stream",
          "text": [
            "The Loss on the train image set is: 0.179\n",
            "The accuracy on the train image set is: 95.2%\n"
          ],
          "name": "stdout"
        }
      ]
    },
    {
      "cell_type": "code",
      "metadata": {
        "id": "3q9yVYgrJCIJ",
        "colab": {
          "base_uri": "https://localhost:8080/"
        },
        "outputId": "1cc0b932-8786-47a9-cf59-9851373dd818"
      },
      "source": [
        "Model.evaluate(train_image_dataset)"
      ],
      "execution_count": null,
      "outputs": [
        {
          "output_type": "stream",
          "text": [
            "13/13 [==============================] - 10s 777ms/step - loss: 0.1747 - accuracy: 0.9423\n"
          ],
          "name": "stdout"
        },
        {
          "output_type": "execute_result",
          "data": {
            "text/plain": [
              "[0.17471933364868164, 0.942307710647583]"
            ]
          },
          "metadata": {
            "tags": []
          },
          "execution_count": 20
        }
      ]
    },
    {
      "cell_type": "code",
      "metadata": {
        "id": "qHG8buhQI6_x",
        "colab": {
          "base_uri": "https://localhost:8080/"
        },
        "outputId": "a032407e-fa8c-4d34-c559-c1a0168dd825"
      },
      "source": [
        "Model.evaluate_generator(test_images_dataset)"
      ],
      "execution_count": null,
      "outputs": [
        {
          "output_type": "stream",
          "text": [
            "/usr/local/lib/python3.7/dist-packages/tensorflow/python/keras/engine/training.py:1877: UserWarning: `Model.evaluate_generator` is deprecated and will be removed in a future version. Please use `Model.evaluate`, which supports generators.\n",
            "  warnings.warn('`Model.evaluate_generator` is deprecated and '\n"
          ],
          "name": "stderr"
        },
        {
          "output_type": "execute_result",
          "data": {
            "text/plain": [
              "[0.13388898968696594, 0.9624999761581421]"
            ]
          },
          "metadata": {
            "tags": []
          },
          "execution_count": 21
        }
      ]
    },
    {
      "cell_type": "code",
      "metadata": {
        "id": "PB69sFWgJUWa",
        "colab": {
          "base_uri": "https://localhost:8080/"
        },
        "outputId": "78f92e45-023b-4115-a7d7-4b0579c83a1a"
      },
      "source": [
        "test_image_result = Model.evaluate(test_images_dataset)"
      ],
      "execution_count": null,
      "outputs": [
        {
          "output_type": "stream",
          "text": [
            "4/4 [==============================] - 2s 448ms/step - loss: 0.1339 - accuracy: 0.9625\n"
          ],
          "name": "stdout"
        }
      ]
    },
    {
      "cell_type": "code",
      "metadata": {
        "id": "IIQl1Qg9Q69F",
        "colab": {
          "base_uri": "https://localhost:8080/"
        },
        "outputId": "435ddefa-944b-4de4-8482-1b016a31a62b"
      },
      "source": [
        "test_image_result"
      ],
      "execution_count": null,
      "outputs": [
        {
          "output_type": "execute_result",
          "data": {
            "text/plain": [
              "[0.13388900458812714, 0.9624999761581421]"
            ]
          },
          "metadata": {
            "tags": []
          },
          "execution_count": 23
        }
      ]
    },
    {
      "cell_type": "code",
      "metadata": {
        "id": "qS_wCw-gROYS",
        "colab": {
          "base_uri": "https://localhost:8080/"
        },
        "outputId": "8cc4015d-2529-4e0d-c09a-a9ccb4b7c025"
      },
      "source": [
        "print(\"The Loss on the test image set is: {:.3f}\".format(test_image_result[0]))\n",
        "print(\"The accuracy on the test image set is: {:.1f}%\".format(test_image_result[1]*100))"
      ],
      "execution_count": null,
      "outputs": [
        {
          "output_type": "stream",
          "text": [
            "The Loss on the test image set is: 0.134\n",
            "The accuracy on the test image set is: 96.2%\n"
          ],
          "name": "stdout"
        }
      ]
    },
    {
      "cell_type": "code",
      "metadata": {
        "id": "KyGoyRoF7lqv"
      },
      "source": [
        "def get_default_device():\n",
        "   \n",
        "    if torch.cuda.is_available():\n",
        "        return torch.device('cuda')\n",
        "    else:\n",
        "        return torch.device('cpu')"
      ],
      "execution_count": null,
      "outputs": []
    },
    {
      "cell_type": "code",
      "metadata": {
        "id": "iEtZixBS7ZPX",
        "colab": {
          "base_uri": "https://localhost:8080/"
        },
        "outputId": "1d1faf2a-180f-4073-97c2-9d82f650dc4c"
      },
      "source": [
        "device = get_default_device()\n",
        "device"
      ],
      "execution_count": null,
      "outputs": [
        {
          "output_type": "execute_result",
          "data": {
            "text/plain": [
              "device(type='cuda')"
            ]
          },
          "metadata": {
            "tags": []
          },
          "execution_count": 26
        }
      ]
    },
    {
      "cell_type": "code",
      "metadata": {
        "id": "6qqPK1dS8yPz"
      },
      "source": [
        "y_actual_data = []\n",
        "y_test_data = []"
      ],
      "execution_count": null,
      "outputs": []
    },
    {
      "cell_type": "code",
      "metadata": {
        "id": "Gny06H7m_PSf"
      },
      "source": [
        "os.listdir('/content/Covid_dataset/val/Normal')"
      ],
      "execution_count": null,
      "outputs": []
    },
    {
      "cell_type": "code",
      "metadata": {
        "id": "778SLWu8_4FP",
        "colab": {
          "base_uri": "https://localhost:8080/"
        },
        "outputId": "5f19e73a-c3f6-40cd-ed9c-b2067680c79f"
      },
      "source": [
        "print(type(os.listdir('/content/Covid_dataset/val/Normal')))"
      ],
      "execution_count": null,
      "outputs": [
        {
          "output_type": "stream",
          "text": [
            "<class 'list'>\n"
          ],
          "name": "stdout"
        }
      ]
    },
    {
      "cell_type": "code",
      "metadata": {
        "id": "EwexatNy9hCD"
      },
      "source": [
        "len(os.listdir('/content/Covid_dataset/val/Normal'))"
      ],
      "execution_count": null,
      "outputs": []
    },
    {
      "cell_type": "code",
      "metadata": {
        "id": "hBjDFypu-bQk"
      },
      "source": [
        "normal_val_images = []\n",
        "for files in os.listdir('/content/Covid_dataset/val/Normal'):\n",
        "  if files.endswith(\"jpeg\"):\n",
        "    normal_val_images.append(files)"
      ],
      "execution_count": null,
      "outputs": []
    },
    {
      "cell_type": "code",
      "metadata": {
        "id": "_CdYj0VPAJJU"
      },
      "source": [
        "len(normal_val_images)"
      ],
      "execution_count": null,
      "outputs": []
    },
    {
      "cell_type": "code",
      "metadata": {
        "id": "9fHvCz6g9PVr",
        "colab": {
          "base_uri": "https://localhost:8080/"
        },
        "outputId": "10a4cb09-72ea-4ecb-d471-635703686941"
      },
      "source": [
        "for i in range(40):\n",
        "  img = image.load_img('/content/Covid_dataset/val/Normal/' + normal_val_images[i], target_size=(224,224))\n",
        "  img = image.img_to_array(img)\n",
        "  img = np.expand_dims(img, axis = 0)\n",
        "  prediction = model.predict_classes(img)\n",
        "  y_test_data.append(prediction[0,0])\n",
        "  y_actual_data.append(1)\n",
        "\n"
      ],
      "execution_count": null,
      "outputs": [
        {
          "output_type": "stream",
          "text": [
            "/usr/local/lib/python3.7/dist-packages/tensorflow/python/keras/engine/sequential.py:450: UserWarning: `model.predict_classes()` is deprecated and will be removed after 2021-01-01. Please use instead:* `np.argmax(model.predict(x), axis=-1)`,   if your model does multi-class classification   (e.g. if it uses a `softmax` last-layer activation).* `(model.predict(x) > 0.5).astype(\"int32\")`,   if your model does binary classification   (e.g. if it uses a `sigmoid` last-layer activation).\n",
            "  warnings.warn('`model.predict_classes()` is deprecated and '\n"
          ],
          "name": "stderr"
        }
      ]
    },
    {
      "cell_type": "code",
      "metadata": {
        "id": "RZqVQjADA8p3"
      },
      "source": [
        "covid_val_images = []\n",
        "for files in os.listdir('/content/Covid_dataset/val/Covid_19'):\n",
        "  if files.endswith(\"jpeg\"):\n",
        "    covid_val_images.append(files)"
      ],
      "execution_count": null,
      "outputs": []
    },
    {
      "cell_type": "code",
      "metadata": {
        "id": "RCF3oRLYBQ5C"
      },
      "source": [
        "len(covid_val_images)"
      ],
      "execution_count": null,
      "outputs": []
    },
    {
      "cell_type": "code",
      "metadata": {
        "id": "8WC_OL7fBWmQ",
        "colab": {
          "base_uri": "https://localhost:8080/"
        },
        "outputId": "5c281d75-a4be-4848-e780-33dbac3f4fed"
      },
      "source": [
        "for i in range(17):\n",
        "  img = image.load_img('/content/Covid_dataset/val/Covid_19/' + covid_val_images[i], target_size=(224,224))\n",
        "  img = image.img_to_array(img)\n",
        "  img = np.expand_dims(img, axis = 0)\n",
        "  prediction = model.predict_classes(img)\n",
        "  y_test_data.append(prediction[0,0])\n",
        "  y_actual_data.append(1)"
      ],
      "execution_count": null,
      "outputs": [
        {
          "output_type": "stream",
          "text": [
            "/usr/local/lib/python3.7/dist-packages/tensorflow/python/keras/engine/sequential.py:450: UserWarning: `model.predict_classes()` is deprecated and will be removed after 2021-01-01. Please use instead:* `np.argmax(model.predict(x), axis=-1)`,   if your model does multi-class classification   (e.g. if it uses a `softmax` last-layer activation).* `(model.predict(x) > 0.5).astype(\"int32\")`,   if your model does binary classification   (e.g. if it uses a `sigmoid` last-layer activation).\n",
            "  warnings.warn('`model.predict_classes()` is deprecated and '\n"
          ],
          "name": "stderr"
        }
      ]
    },
    {
      "cell_type": "code",
      "metadata": {
        "id": "BRvX3IIoEMCf",
        "colab": {
          "base_uri": "https://localhost:8080/",
          "height": 241
        },
        "outputId": "e2a4a00f-de6f-4a8d-edc4-10786acd421a"
      },
      "source": [
        " image.load_img('/content/Covid_dataset/val/Covid_19/' + covid_val_images[2], target_size=(224,224))"
      ],
      "execution_count": null,
      "outputs": [
        {
          "output_type": "execute_result",
          "data": {
            "image/png": "[encoded data removed]",
            "text/plain": [
              "<PIL.Image.Image image mode=RGB size=224x224 at 0x7F767EE03F90>"
            ]
          },
          "metadata": {
            "tags": []
          },
          "execution_count": 34
        }
      ]
    },
    {
      "cell_type": "code",
      "metadata": {
        "id": "uxbXGuAyIGE7",
        "colab": {
          "base_uri": "https://localhost:8080/"
        },
        "outputId": "5838c34e-83fa-4314-a999-bb48055e131c"
      },
      "source": [
        "loss , accuracy = model.evaluate(test_images_dataset)\n",
        "print(f'Test Loss: {loss:.4}')\n",
        "print(f'Test ACC: {accuracy:.2%}')"
      ],
      "execution_count": null,
      "outputs": [
        {
          "output_type": "stream",
          "text": [
            "4/4 [==============================] - 2s 387ms/step - loss: 0.1339 - accuracy: 0.9625\n",
            "Test Loss: 0.1339\n",
            "Test ACC: 96.25%\n"
          ],
          "name": "stdout"
        }
      ]
    },
    {
      "cell_type": "code",
      "metadata": {
        "id": "XfpjqIdNR9Q0",
        "colab": {
          "base_uri": "https://localhost:8080/"
        },
        "outputId": "850ffab0-1e22-4b7e-9baa-728c51edb7ff"
      },
      "source": [
        "dict_classes = train_image_dataset.class_indices\n",
        "dict_classes"
      ],
      "execution_count": null,
      "outputs": [
        {
          "output_type": "execute_result",
          "data": {
            "text/plain": [
              "{'Covid_19': 0, 'Normal': 1}"
            ]
          },
          "metadata": {
            "tags": []
          },
          "execution_count": 36
        }
      ]
    },
    {
      "cell_type": "code",
      "metadata": {
        "id": "z-12YoYnTcMU"
      },
      "source": [
        "from keras.callbacks import ModelCheckpoint\n",
        "checkpoint = ModelCheckpoint('model-{epoch:03d}.model',monitor ='val_loss', verbose = 0,\n",
        "                             save_best_only = True,\n",
        "                             mode = 'auto')"
      ],
      "execution_count": null,
      "outputs": []
    },
    {
      "cell_type": "code",
      "metadata": {
        "id": "ruwXi2MdUiU8",
        "colab": {
          "base_uri": "https://localhost:8080/",
          "height": 279
        },
        "outputId": "54861884-9402-45be-cc99-28915cd11854"
      },
      "source": [
        "from matplotlib import pyplot as plt\n",
        "plt.plot(hist.history['loss'], 'r',label = 'Training Loss')\n",
        "plt.plot(hist.history['val_loss'],label = 'Validation Loss')\n",
        "plt.xlabel('# epochs')\n",
        "plt.ylabel('loss')\n",
        "plt.legend()\n",
        "plt.show()"
      ],
      "execution_count": null,
      "outputs": [
        {
          "output_type": "display_data",
          "data": {
            "image/png": "[encoded data removed]",
            "text/plain": [
              "<Figure size 432x288 with 1 Axes>"
            ]
          },
          "metadata": {
            "tags": [],
            "needs_background": "light"
          }
        }
      ]
    },
    {
      "cell_type": "code",
      "metadata": {
        "id": "7SFpjAlNVIiC",
        "colab": {
          "base_uri": "https://localhost:8080/",
          "height": 283
        },
        "outputId": "7ab72b3b-7832-4464-bbbb-81c90e1ecc81"
      },
      "source": [
        "plt.plot(hist.history['accuracy'], 'r',label = 'Training Accuracy')\n",
        "plt.plot(hist.history['val_accuracy'],label = 'Validation Accuracy')\n",
        "plt.xlabel('# epochs')\n",
        "plt.ylabel('Accuracy')\n",
        "plt.legend()\n",
        "plt.show()"
      ],
      "execution_count": null,
      "outputs": [
        {
          "output_type": "display_data",
          "data": {
            "image/png": "[encoded data removed]",
            "text/plain": [
              "<Figure size 432x288 with 1 Axes>"
            ]
          },
          "metadata": {
            "tags": [],
            "needs_background": "light"
          }
        }
      ]
    },
    {
      "cell_type": "code",
      "metadata": {
        "id": "6wngOFOI03cz"
      },
      "source": [
        ""
      ],
      "execution_count": null,
      "outputs": []
    }
  ]
}